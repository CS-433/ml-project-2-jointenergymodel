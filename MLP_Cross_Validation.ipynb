{
 "cells": [
  {
   "cell_type": "code",
   "execution_count": 3,
   "metadata": {
    "id": "Es7ciHwyjdse"
   },
   "outputs": [],
   "source": [
    "import pandas as pd\n",
    "import numpy as np\n",
    "from sklearn.model_selection import StratifiedKFold\n",
    "from sklearn.preprocessing import StandardScaler\n",
    "import torch\n",
    "import torch.nn as nn\n",
    "import torch.optim as optim\n",
    "from torch.utils.data import DataLoader, TensorDataset"
   ]
  },
  {
   "cell_type": "markdown",
   "metadata": {
    "id": "bFJwbme5wLb2"
   },
   "source": [
    "# **Functions**"
   ]
  },
  {
   "cell_type": "markdown",
   "metadata": {
    "id": "AtFdD0NZvwvm"
   },
   "source": [
    "## Data loading functions"
   ]
  },
  {
   "cell_type": "code",
   "execution_count": 4,
   "metadata": {
    "id": "-rZIyZjZj2Oc"
   },
   "outputs": [],
   "source": [
    "def load_dataset(csv_path):\n",
    "    \"\"\"\n",
    "    Load the dataset made of labels and TMD features stored ar csv_path\n",
    "        - csv_path: String giving the path where the dataset is stored\n",
    "    Returns features and labels as Pandas DataFrames\n",
    "    \"\"\"\n",
    "    df = pd.read_csv(csv_path)\n",
    "    labels = df.iloc[:, 0].values.astype(int)\n",
    "    features = df.iloc[:, 1:].values\n",
    "    return features, labels\n",
    "\n",
    "def standardize_features(features):\n",
    "  \"\"\"\n",
    "  Make every feature centered and scaled to unit variance\n",
    "      - features: Pandas DataFrame\n",
    "  \"\"\"\n",
    "  scaler = StandardScaler()\n",
    "  return scaler.fit_transform(features)"
   ]
  },
  {
   "cell_type": "markdown",
   "metadata": {
    "id": "frW50GEwv5Av"
   },
   "source": [
    "## Creation of custom MLP"
   ]
  },
  {
   "cell_type": "code",
   "execution_count": 5,
   "metadata": {
    "id": "GYKwVNuckWwm"
   },
   "outputs": [],
   "source": [
    "def create_mlp(input_size, hidden_sizes, output_size=2):\n",
    "  \"\"\"\n",
    "  Defines a function to create a MLP model with variable architecture\n",
    "      -input_size, output_size : Integers giving the size of input and input\n",
    "      -hidden_size : List of integers corresponding to the hidden layers widths\n",
    "  \"\"\"\n",
    "  layers = []\n",
    "  sizes = [input_size] + hidden_sizes + [output_size]\n",
    "  for i in range(len(sizes) - 1):\n",
    "      layers.append(nn.Linear(sizes[i], sizes[i+1]))\n",
    "      if i < len(sizes) - 2:\n",
    "          layers.append(nn.ReLU())\n",
    "  return nn.Sequential(*layers)"
   ]
  },
  {
   "cell_type": "markdown",
   "metadata": {
    "id": "7uHyY0NiwABx"
   },
   "source": [
    "## Cross validation for a given model"
   ]
  },
  {
   "cell_type": "code",
   "execution_count": 6,
   "metadata": {
    "id": "wBYh0ND8kK9i"
   },
   "outputs": [],
   "source": [
    "def cross_validation(model, features, labels, num_epochs=10, batch_size=32, learning_rate=0.001, num_splits=5):\n",
    "  \"\"\"\n",
    "  For a given model and dataset (features, labels) this funciton performs K_fold cross validation\n",
    "      -model: Pytorch MLP model with appropriate input and output sizes\n",
    "      -features, labels = Dataset in the form of two Pandas dataframes\n",
    "      -num_epoch, batch_size, learning_rate : usual NN parameters\n",
    "      -num_split : number of splits for the K_fold CV\n",
    "  Returns a list with the num_splits values of validation loss\n",
    "  \"\"\"\n",
    "  skf = StratifiedKFold(n_splits=num_splits, shuffle=True, random_state=42)\n",
    "  criterion = nn.CrossEntropyLoss()\n",
    "\n",
    "  all_val_losses = []\n",
    "\n",
    "  for fold, (train_index, test_index) in enumerate(skf.split(features, labels)):\n",
    "    train_features, test_features = features[train_index], features[test_index]\n",
    "    train_labels, test_labels = labels[train_index], labels[test_index]\n",
    "\n",
    "    train_dataset = TensorDataset(torch.tensor(train_features, dtype=torch.float32),\n",
    "                                  torch.tensor(train_labels, dtype=torch.long))\n",
    "    test_dataset = TensorDataset(torch.tensor(test_features, dtype=torch.float32),\n",
    "                                  torch.tensor(test_labels, dtype=torch.long))\n",
    "\n",
    "    train_loader = DataLoader(train_dataset, batch_size=batch_size, shuffle=True)\n",
    "    test_loader = DataLoader(test_dataset, batch_size=batch_size, shuffle=False)\n",
    "\n",
    "    optimizer = optim.Adam(model.parameters(), lr=learning_rate)\n",
    "\n",
    "    val_losses = []\n",
    "\n",
    "    for epoch in range(num_epochs):\n",
    "        model.train()\n",
    "        for batch_features, batch_labels in train_loader:\n",
    "          optimizer.zero_grad()\n",
    "          outputs = model(batch_features)\n",
    "          loss = criterion(outputs, batch_labels)\n",
    "          loss.backward()\n",
    "          optimizer.step()\n",
    "\n",
    "        model.eval()\n",
    "        val_loss = 0.0\n",
    "        correct = 0\n",
    "        total = 0\n",
    "        with torch.no_grad():\n",
    "          for batch_features, batch_labels in test_loader:\n",
    "            outputs = model(batch_features)\n",
    "            loss = criterion(outputs, batch_labels)\n",
    "            val_loss += loss.item()\n",
    "            _, predicted = torch.max(outputs.data, 1)\n",
    "            total += batch_labels.size(0)\n",
    "            correct += (predicted == batch_labels).sum().item()\n",
    "\n",
    "        accuracy = correct / total\n",
    "        val_losses.append(val_loss / len(test_loader))\n",
    "        print(f'Fold {fold + 1}, Epoch [{epoch + 1}/{num_epochs}], Test Loss: {val_losses[-1]}, Test Accuracy: {accuracy}')\n",
    "\n",
    "    all_val_losses.append(val_losses)\n",
    "\n",
    "  return all_val_losses\n"
   ]
  },
  {
   "cell_type": "markdown",
   "metadata": {
    "id": "dAiH0fM5wD43"
   },
   "source": [
    "## Hyperparamters search (i.e test cross_validation result for different models)"
   ]
  },
  {
   "cell_type": "code",
   "execution_count": 7,
   "metadata": {
    "id": "xUf0yUOnkvyV"
   },
   "outputs": [],
   "source": [
    "def hyperparameter_search(features, labels, hidden_size_options, num_splits=5, num_epochs=10, batch_size=32, learning_rate=0.001):\n",
    "  \"\"\"\n",
    "  Performs hyperparameters search in terms of width and depth for the MLP\n",
    "      -features, labels, num_splits=5, num_epochs=10, batch_size=32, learning_rate=0.001 : same as cross_validation\n",
    "      -num_layers_options : list of integers corresponding to the number of hidden layers in each architecture to be tested\n",
    "      -hidden_size_options : list of tuples of integers giving the sizes of each hidden leayer in each architecture to be tested. Must be consistent with num_layers_options\n",
    "  \"\"\"\n",
    "\n",
    "  #Consistency check\n",
    "  best_loss = np.inf\n",
    "  best_model = None\n",
    "  best_hidden_size = None\n",
    "  best_num_layers = None\n",
    "\n",
    "  losses = {}\n",
    "\n",
    "  for hidden_size_option in hidden_size_options:\n",
    "\n",
    "    model = create_mlp(features.shape[1], hidden_size_option, len(np.unique(labels)))\n",
    "    print(f\"\\nHidden Size: {hidden_size_option}, Num Layers: {len(hidden_size_option)}\")\n",
    "\n",
    "    validation_loss = np.average(cross_validation(model, features, labels, num_epochs=num_epochs, batch_size=batch_size,\n",
    "                            learning_rate=learning_rate, num_splits=num_splits))\n",
    "\n",
    "    print((len(hidden_size_option),hidden_size_option))\n",
    "    losses[(len(hidden_size_option),tuple(hidden_size_option))] = validation_loss\n",
    "\n",
    "    if validation_loss < best_loss:\n",
    "        best_loss = validation_loss\n",
    "        best_model = model\n",
    "        best_hidden_size = hidden_size_option\n",
    "        best_num_layers = len(hidden_size_option)\n",
    "\n",
    "  print(\"\\nBest Model:\")\n",
    "  print(f\"Hidden Size: {best_hidden_size}, Num Layers: {best_num_layers}\")\n",
    "  return best_model\n"
   ]
  },
  {
   "cell_type": "markdown",
   "metadata": {
    "id": "Quagx6lswRag"
   },
   "source": [
    "# **Actual tests**"
   ]
  },
  {
   "cell_type": "markdown",
   "metadata": {
    "id": "9MiahaTBwaa8"
   },
   "source": [
    "## Data loading"
   ]
  },
  {
   "cell_type": "code",
   "execution_count": 9,
   "metadata": {
    "id": "-AtE5-bKuGZg"
   },
   "outputs": [],
   "source": [
    "data_path = 'https://drive.google.com/uc?id=1IcXGzbImkH4mz0o8_3ZnbS7TC34EZ7Nq'"
   ]
  },
  {
   "cell_type": "code",
   "execution_count": 12,
   "metadata": {
    "id": "pk2hbfnNwVMP"
   },
   "outputs": [],
   "source": [
    "features, labels = load_dataset(data_path)\n",
    "features = standardize_features(features)\n",
    "\n",
    "input_size = features.shape[1]"
   ]
  },
  {
   "cell_type": "code",
   "execution_count": 13,
   "metadata": {
    "colab": {
     "base_uri": "https://localhost:8080/"
    },
    "id": "QZzwC-0S-TP3",
    "outputId": "10837a74-3a3f-46d2-feb4-536e0214677e"
   },
   "outputs": [
    {
     "name": "stdout",
     "output_type": "stream",
     "text": [
      "(array([0, 1]), array([79, 19]))\n"
     ]
    }
   ],
   "source": [
    "print(np.unique(labels,return_counts=True))"
   ]
  },
  {
   "cell_type": "markdown",
   "metadata": {
    "id": "UBvOO-OXwcs1"
   },
   "source": [
    "## A first model (Note: Using weighted cross entropy)"
   ]
  },
  {
   "cell_type": "code",
   "execution_count": 14,
   "metadata": {
    "id": "UMB4sjFew4uQ"
   },
   "outputs": [],
   "source": [
    "model1 = create_mlp(input_size,[32],2)"
   ]
  },
  {
   "cell_type": "code",
   "execution_count": 15,
   "metadata": {
    "id": "78za6AwxzkWk"
   },
   "outputs": [],
   "source": [
    "model=model1\n",
    "batch_size=32\n",
    "num_epochs=50\n",
    "learning_rate=0.0005\n",
    "number_splits=5\n",
    "weights=torch.tensor([0.2, 0.8], dtype=torch.float32)\n"
   ]
  },
  {
   "cell_type": "code",
   "execution_count": 16,
   "metadata": {
    "colab": {
     "base_uri": "https://localhost:8080/"
    },
    "id": "CY6Nzy-3ys4C",
    "outputId": "b0537ccd-86b8-4c31-8fd5-689995162156"
   },
   "outputs": [
    {
     "name": "stdout",
     "output_type": "stream",
     "text": [
      "Fold 1, Epoch [1/50], Test Loss: 0.7196179628372192, Test Accuracy: 0.4, Test accuracy on 1=sick: 1.0, Test accuracy on 0: 0.25\n",
      "Fold 1, Epoch [2/50], Test Loss: 0.9365955591201782, Test Accuracy: 0.5, Test accuracy on 1=sick: 0.25, Test accuracy on 0: 0.5625\n",
      "Fold 1, Epoch [3/50], Test Loss: 1.120213508605957, Test Accuracy: 0.7, Test accuracy on 1=sick: 0.25, Test accuracy on 0: 0.8125\n",
      "Fold 1, Epoch [4/50], Test Loss: 0.8504436016082764, Test Accuracy: 0.65, Test accuracy on 1=sick: 0.5, Test accuracy on 0: 0.6875\n",
      "Fold 1, Epoch [5/50], Test Loss: 0.7185530662536621, Test Accuracy: 0.65, Test accuracy on 1=sick: 0.5, Test accuracy on 0: 0.6875\n",
      "Fold 1, Epoch [6/50], Test Loss: 0.6102110743522644, Test Accuracy: 0.65, Test accuracy on 1=sick: 1.0, Test accuracy on 0: 0.5625\n",
      "Fold 1, Epoch [7/50], Test Loss: 0.6586321592330933, Test Accuracy: 0.65, Test accuracy on 1=sick: 1.0, Test accuracy on 0: 0.5625\n",
      "Fold 1, Epoch [8/50], Test Loss: 0.939887523651123, Test Accuracy: 0.7, Test accuracy on 1=sick: 0.5, Test accuracy on 0: 0.75\n",
      "Fold 1, Epoch [9/50], Test Loss: 0.9406089186668396, Test Accuracy: 0.65, Test accuracy on 1=sick: 0.25, Test accuracy on 0: 0.75\n",
      "Fold 1, Epoch [10/50], Test Loss: 0.9327268004417419, Test Accuracy: 0.55, Test accuracy on 1=sick: 0.5, Test accuracy on 0: 0.5625\n",
      "Fold 1, Epoch [11/50], Test Loss: 0.9884401559829712, Test Accuracy: 0.55, Test accuracy on 1=sick: 0.5, Test accuracy on 0: 0.5625\n",
      "Fold 1, Epoch [12/50], Test Loss: 1.0620403289794922, Test Accuracy: 0.7, Test accuracy on 1=sick: 0.25, Test accuracy on 0: 0.8125\n",
      "Fold 1, Epoch [13/50], Test Loss: 1.0109868049621582, Test Accuracy: 0.7, Test accuracy on 1=sick: 0.25, Test accuracy on 0: 0.8125\n",
      "Fold 1, Epoch [14/50], Test Loss: 0.9310568571090698, Test Accuracy: 0.55, Test accuracy on 1=sick: 0.5, Test accuracy on 0: 0.5625\n",
      "Fold 1, Epoch [15/50], Test Loss: 1.0656263828277588, Test Accuracy: 0.5, Test accuracy on 1=sick: 0.25, Test accuracy on 0: 0.5625\n",
      "Fold 1, Epoch [16/50], Test Loss: 1.3931963443756104, Test Accuracy: 0.65, Test accuracy on 1=sick: 0.25, Test accuracy on 0: 0.75\n",
      "Fold 1, Epoch [17/50], Test Loss: 1.4205876588821411, Test Accuracy: 0.5, Test accuracy on 1=sick: 0.25, Test accuracy on 0: 0.5625\n",
      "Fold 1, Epoch [18/50], Test Loss: 1.3240561485290527, Test Accuracy: 0.6, Test accuracy on 1=sick: 0.25, Test accuracy on 0: 0.6875\n",
      "Fold 1, Epoch [19/50], Test Loss: 1.117513656616211, Test Accuracy: 0.6, Test accuracy on 1=sick: 0.25, Test accuracy on 0: 0.6875\n",
      "Fold 1, Epoch [20/50], Test Loss: 1.133542776107788, Test Accuracy: 0.55, Test accuracy on 1=sick: 0.25, Test accuracy on 0: 0.625\n",
      "Fold 1, Epoch [21/50], Test Loss: 1.3332149982452393, Test Accuracy: 0.7, Test accuracy on 1=sick: 0.25, Test accuracy on 0: 0.8125\n",
      "Fold 1, Epoch [22/50], Test Loss: 1.3346819877624512, Test Accuracy: 0.65, Test accuracy on 1=sick: 0.25, Test accuracy on 0: 0.75\n",
      "Fold 1, Epoch [23/50], Test Loss: 1.1005350351333618, Test Accuracy: 0.6, Test accuracy on 1=sick: 0.25, Test accuracy on 0: 0.6875\n",
      "Fold 1, Epoch [24/50], Test Loss: 1.0935219526290894, Test Accuracy: 0.6, Test accuracy on 1=sick: 0.25, Test accuracy on 0: 0.6875\n",
      "Fold 1, Epoch [25/50], Test Loss: 1.2282025814056396, Test Accuracy: 0.6, Test accuracy on 1=sick: 0.25, Test accuracy on 0: 0.6875\n",
      "Fold 1, Epoch [26/50], Test Loss: 1.4041428565979004, Test Accuracy: 0.6, Test accuracy on 1=sick: 0.25, Test accuracy on 0: 0.6875\n",
      "Fold 1, Epoch [27/50], Test Loss: 1.2869457006454468, Test Accuracy: 0.6, Test accuracy on 1=sick: 0.25, Test accuracy on 0: 0.6875\n",
      "Fold 1, Epoch [28/50], Test Loss: 1.18732750415802, Test Accuracy: 0.6, Test accuracy on 1=sick: 0.25, Test accuracy on 0: 0.6875\n",
      "Fold 1, Epoch [29/50], Test Loss: 1.177126407623291, Test Accuracy: 0.6, Test accuracy on 1=sick: 0.25, Test accuracy on 0: 0.6875\n",
      "Fold 1, Epoch [30/50], Test Loss: 1.2377358675003052, Test Accuracy: 0.6, Test accuracy on 1=sick: 0.25, Test accuracy on 0: 0.6875\n",
      "Fold 1, Epoch [31/50], Test Loss: 1.2857385873794556, Test Accuracy: 0.55, Test accuracy on 1=sick: 0.25, Test accuracy on 0: 0.625\n",
      "Fold 1, Epoch [32/50], Test Loss: 1.321663737297058, Test Accuracy: 0.55, Test accuracy on 1=sick: 0.25, Test accuracy on 0: 0.625\n",
      "Fold 1, Epoch [33/50], Test Loss: 1.3231309652328491, Test Accuracy: 0.55, Test accuracy on 1=sick: 0.25, Test accuracy on 0: 0.625\n",
      "Fold 1, Epoch [34/50], Test Loss: 1.38327157497406, Test Accuracy: 0.6, Test accuracy on 1=sick: 0.25, Test accuracy on 0: 0.6875\n",
      "Fold 1, Epoch [35/50], Test Loss: 1.4625203609466553, Test Accuracy: 0.55, Test accuracy on 1=sick: 0.25, Test accuracy on 0: 0.625\n",
      "Fold 1, Epoch [36/50], Test Loss: 1.4773321151733398, Test Accuracy: 0.55, Test accuracy on 1=sick: 0.25, Test accuracy on 0: 0.625\n",
      "Fold 1, Epoch [37/50], Test Loss: 1.355379343032837, Test Accuracy: 0.55, Test accuracy on 1=sick: 0.25, Test accuracy on 0: 0.625\n",
      "Fold 1, Epoch [38/50], Test Loss: 1.2125294208526611, Test Accuracy: 0.6, Test accuracy on 1=sick: 0.25, Test accuracy on 0: 0.6875\n",
      "Fold 1, Epoch [39/50], Test Loss: 1.220414161682129, Test Accuracy: 0.6, Test accuracy on 1=sick: 0.25, Test accuracy on 0: 0.6875\n",
      "Fold 1, Epoch [40/50], Test Loss: 1.3185285329818726, Test Accuracy: 0.6, Test accuracy on 1=sick: 0.25, Test accuracy on 0: 0.6875\n",
      "Fold 1, Epoch [41/50], Test Loss: 1.4110069274902344, Test Accuracy: 0.6, Test accuracy on 1=sick: 0.25, Test accuracy on 0: 0.6875\n",
      "Fold 1, Epoch [42/50], Test Loss: 1.3962488174438477, Test Accuracy: 0.55, Test accuracy on 1=sick: 0.25, Test accuracy on 0: 0.625\n",
      "Fold 1, Epoch [43/50], Test Loss: 1.4144420623779297, Test Accuracy: 0.55, Test accuracy on 1=sick: 0.25, Test accuracy on 0: 0.625\n",
      "Fold 1, Epoch [44/50], Test Loss: 1.406246542930603, Test Accuracy: 0.55, Test accuracy on 1=sick: 0.25, Test accuracy on 0: 0.625\n",
      "Fold 1, Epoch [45/50], Test Loss: 1.4442522525787354, Test Accuracy: 0.6, Test accuracy on 1=sick: 0.25, Test accuracy on 0: 0.6875\n",
      "Fold 1, Epoch [46/50], Test Loss: 1.544731855392456, Test Accuracy: 0.55, Test accuracy on 1=sick: 0.25, Test accuracy on 0: 0.625\n",
      "Fold 1, Epoch [47/50], Test Loss: 1.4074361324310303, Test Accuracy: 0.55, Test accuracy on 1=sick: 0.25, Test accuracy on 0: 0.625\n",
      "Fold 1, Epoch [48/50], Test Loss: 1.337659478187561, Test Accuracy: 0.6, Test accuracy on 1=sick: 0.25, Test accuracy on 0: 0.6875\n",
      "Fold 1, Epoch [49/50], Test Loss: 1.3103073835372925, Test Accuracy: 0.6, Test accuracy on 1=sick: 0.25, Test accuracy on 0: 0.6875\n",
      "Fold 1, Epoch [50/50], Test Loss: 1.3591952323913574, Test Accuracy: 0.6, Test accuracy on 1=sick: 0.25, Test accuracy on 0: 0.6875\n"
     ]
    }
   ],
   "source": [
    "skf = StratifiedKFold(n_splits=number_splits, shuffle=True, random_state=42)\n",
    "\n",
    "all_val_losses = []\n",
    "\n",
    "fold=0\n",
    "\n",
    "train_index, test_index = next(skf.split(features, labels))\n",
    "\n",
    "train_features, test_features = features[train_index], features[test_index]\n",
    "train_labels, test_labels = labels[train_index], labels[test_index]\n",
    "\n",
    "train_dataset = TensorDataset(torch.tensor(train_features, dtype=torch.float32),\n",
    "                              torch.tensor(train_labels, dtype=torch.long))\n",
    "test_dataset = TensorDataset(torch.tensor(test_features, dtype=torch.float32),\n",
    "                              torch.tensor(test_labels, dtype=torch.long))\n",
    "\n",
    "train_loader = DataLoader(train_dataset, batch_size=batch_size, shuffle=True)\n",
    "test_loader = DataLoader(test_dataset, batch_size=batch_size, shuffle=False)\n",
    "\n",
    "optimizer = optim.Adam(model1.parameters(), lr=learning_rate)\n",
    "\n",
    "val_losses = []\n",
    "accuracies_1=[]\n",
    "accuracies_0=[]\n",
    "\n",
    "for epoch in range(num_epochs):\n",
    "    model.train()\n",
    "    for batch_features, batch_labels in train_loader:\n",
    "      optimizer.zero_grad()\n",
    "      outputs = model(batch_features)\n",
    "      loss = nn.functional.cross_entropy(outputs, batch_labels, weight=weights)\n",
    "      loss.backward()\n",
    "      optimizer.step()\n",
    "\n",
    "    model.eval()\n",
    "    val_loss = 0.0\n",
    "    correct = 0\n",
    "    total = 0\n",
    "    total1 = 0\n",
    "    total0 = 0\n",
    "    correct1 = 0\n",
    "    correct0 = 0\n",
    "\n",
    "    with torch.no_grad():\n",
    "      for batch_features, batch_labels in test_loader:\n",
    "        outputs = model(batch_features)\n",
    "        loss = nn.functional.cross_entropy(outputs, batch_labels, weight=weights)\n",
    "        val_loss += loss.item()\n",
    "        _, predicted = torch.max(outputs.data, 1)\n",
    "        total += batch_labels.size(0)\n",
    "        total1 += torch.sum(batch_labels == 1).item()\n",
    "        total0 += torch.sum(batch_labels == 0).item()\n",
    "        correct += (predicted == batch_labels).sum().item()\n",
    "\n",
    "        correct0  += (batch_labels[predicted == batch_labels]==0).sum().item()\n",
    "        correct1  += (batch_labels[predicted == batch_labels]==1).sum().item()\n",
    "\n",
    "\n",
    "    accuracy = correct / total\n",
    "    accuracy1 = correct1 / total1\n",
    "    accuracy0 = correct0 / total0\n",
    "    val_losses.append(val_loss / len(test_loader))\n",
    "    accuracies_1.append(accuracy1)\n",
    "    accuracies_0.append(accuracy0)\n",
    "\n",
    "    print(f'Fold {fold + 1}, Epoch [{epoch + 1}/{num_epochs}], Test Loss: {val_losses[-1]}, Test Accuracy: {accuracy}, Test accuracy on 1=sick: {accuracy1}, Test accuracy on 0: {accuracy0}')\n",
    "\n",
    "\n"
   ]
  },
  {
   "cell_type": "markdown",
   "metadata": {
    "id": "NDgEs90IwjNP"
   },
   "source": [
    "## Hyperparameters search (Careful! Not using weighted cross entropy loss yet!)"
   ]
  },
  {
   "cell_type": "code",
   "execution_count": 17,
   "metadata": {
    "colab": {
     "base_uri": "https://localhost:8080/"
    },
    "id": "TblnJdt8vCnV",
    "outputId": "f6380cdb-82f8-472b-b287-ccc8960070dd"
   },
   "outputs": [
    {
     "name": "stdout",
     "output_type": "stream",
     "text": [
      "\n",
      "Hidden Size: [64], Num Layers: 1\n",
      "Fold 1, Epoch [1/10], Test Loss: 1.227519154548645, Test Accuracy: 0.8\n",
      "Fold 1, Epoch [2/10], Test Loss: 1.7316805124282837, Test Accuracy: 0.7\n",
      "Fold 1, Epoch [3/10], Test Loss: 2.232539415359497, Test Accuracy: 0.7\n",
      "Fold 1, Epoch [4/10], Test Loss: 1.7003285884857178, Test Accuracy: 0.8\n",
      "Fold 1, Epoch [5/10], Test Loss: 1.5523356199264526, Test Accuracy: 0.75\n",
      "Fold 1, Epoch [6/10], Test Loss: 1.302356481552124, Test Accuracy: 0.7\n",
      "Fold 1, Epoch [7/10], Test Loss: 1.2983653545379639, Test Accuracy: 0.75\n",
      "Fold 1, Epoch [8/10], Test Loss: 1.2390940189361572, Test Accuracy: 0.8\n",
      "Fold 1, Epoch [9/10], Test Loss: 1.3584877252578735, Test Accuracy: 0.75\n",
      "Fold 1, Epoch [10/10], Test Loss: 1.3000613451004028, Test Accuracy: 0.75\n",
      "Fold 2, Epoch [1/10], Test Loss: 1.0039372444152832, Test Accuracy: 0.85\n",
      "Fold 2, Epoch [2/10], Test Loss: 0.39847445487976074, Test Accuracy: 0.85\n",
      "Fold 2, Epoch [3/10], Test Loss: 0.2854541838169098, Test Accuracy: 0.9\n",
      "Fold 2, Epoch [4/10], Test Loss: 0.3283163011074066, Test Accuracy: 0.85\n",
      "Fold 2, Epoch [5/10], Test Loss: 0.8963850140571594, Test Accuracy: 0.75\n",
      "Fold 2, Epoch [6/10], Test Loss: 1.3859412670135498, Test Accuracy: 0.65\n",
      "Fold 2, Epoch [7/10], Test Loss: 1.3259434700012207, Test Accuracy: 0.75\n",
      "Fold 2, Epoch [8/10], Test Loss: 0.7807002663612366, Test Accuracy: 0.8\n",
      "Fold 2, Epoch [9/10], Test Loss: 0.8381769061088562, Test Accuracy: 0.85\n",
      "Fold 2, Epoch [10/10], Test Loss: 0.9417664408683777, Test Accuracy: 0.8\n",
      "Fold 3, Epoch [1/10], Test Loss: 0.7557053565979004, Test Accuracy: 0.75\n",
      "Fold 3, Epoch [2/10], Test Loss: 1.0463134050369263, Test Accuracy: 0.85\n",
      "Fold 3, Epoch [3/10], Test Loss: 0.9874540567398071, Test Accuracy: 0.85\n",
      "Fold 3, Epoch [4/10], Test Loss: 1.1550947427749634, Test Accuracy: 0.65\n",
      "Fold 3, Epoch [5/10], Test Loss: 1.5409185886383057, Test Accuracy: 0.65\n",
      "Fold 3, Epoch [6/10], Test Loss: 1.5314083099365234, Test Accuracy: 0.7\n",
      "Fold 3, Epoch [7/10], Test Loss: 1.3980273008346558, Test Accuracy: 0.8\n",
      "Fold 3, Epoch [8/10], Test Loss: 1.4978187084197998, Test Accuracy: 0.8\n",
      "Fold 3, Epoch [9/10], Test Loss: 1.6502662897109985, Test Accuracy: 0.75\n",
      "Fold 3, Epoch [10/10], Test Loss: 1.8514926433563232, Test Accuracy: 0.75\n",
      "Fold 4, Epoch [1/10], Test Loss: 0.6814513206481934, Test Accuracy: 0.8421052631578947\n",
      "Fold 4, Epoch [2/10], Test Loss: 0.2666272521018982, Test Accuracy: 0.9473684210526315\n",
      "Fold 4, Epoch [3/10], Test Loss: 0.1690213680267334, Test Accuracy: 0.8947368421052632\n",
      "Fold 4, Epoch [4/10], Test Loss: 1.983372688293457, Test Accuracy: 0.6842105263157895\n",
      "Fold 4, Epoch [5/10], Test Loss: 1.8871673345565796, Test Accuracy: 0.6842105263157895\n",
      "Fold 4, Epoch [6/10], Test Loss: 0.7461919188499451, Test Accuracy: 0.7894736842105263\n",
      "Fold 4, Epoch [7/10], Test Loss: 0.1579221487045288, Test Accuracy: 0.9473684210526315\n",
      "Fold 4, Epoch [8/10], Test Loss: 0.07718415558338165, Test Accuracy: 0.9473684210526315\n",
      "Fold 4, Epoch [9/10], Test Loss: 0.1255648285150528, Test Accuracy: 0.8947368421052632\n",
      "Fold 4, Epoch [10/10], Test Loss: 0.2225073277950287, Test Accuracy: 0.8947368421052632\n",
      "Fold 5, Epoch [1/10], Test Loss: 1.0308125019073486, Test Accuracy: 0.9473684210526315\n",
      "Fold 5, Epoch [2/10], Test Loss: 0.7888928055763245, Test Accuracy: 0.8421052631578947\n",
      "Fold 5, Epoch [3/10], Test Loss: 0.6013026237487793, Test Accuracy: 0.8947368421052632\n",
      "Fold 5, Epoch [4/10], Test Loss: 0.7767168879508972, Test Accuracy: 0.8421052631578947\n",
      "Fold 5, Epoch [5/10], Test Loss: 1.08577299118042, Test Accuracy: 0.8421052631578947\n",
      "Fold 5, Epoch [6/10], Test Loss: 1.3636053800582886, Test Accuracy: 0.7894736842105263\n",
      "Fold 5, Epoch [7/10], Test Loss: 1.6492128372192383, Test Accuracy: 0.7894736842105263\n",
      "Fold 5, Epoch [8/10], Test Loss: 1.7012534141540527, Test Accuracy: 0.7894736842105263\n",
      "Fold 5, Epoch [9/10], Test Loss: 1.6848742961883545, Test Accuracy: 0.7894736842105263\n",
      "Fold 5, Epoch [10/10], Test Loss: 1.6251375675201416, Test Accuracy: 0.7894736842105263\n",
      "(1, [64])\n",
      "\n",
      "Hidden Size: [128], Num Layers: 1\n",
      "Fold 1, Epoch [1/10], Test Loss: 3.608785629272461, Test Accuracy: 0.65\n",
      "Fold 1, Epoch [2/10], Test Loss: 2.591078281402588, Test Accuracy: 0.75\n",
      "Fold 1, Epoch [3/10], Test Loss: 3.2470755577087402, Test Accuracy: 0.75\n",
      "Fold 1, Epoch [4/10], Test Loss: 3.4942870140075684, Test Accuracy: 0.75\n",
      "Fold 1, Epoch [5/10], Test Loss: 3.2058310508728027, Test Accuracy: 0.6\n",
      "Fold 1, Epoch [6/10], Test Loss: 2.1850123405456543, Test Accuracy: 0.65\n",
      "Fold 1, Epoch [7/10], Test Loss: 1.5069594383239746, Test Accuracy: 0.7\n",
      "Fold 1, Epoch [8/10], Test Loss: 1.2305915355682373, Test Accuracy: 0.8\n",
      "Fold 1, Epoch [9/10], Test Loss: 1.233130931854248, Test Accuracy: 0.75\n",
      "Fold 1, Epoch [10/10], Test Loss: 1.275635838508606, Test Accuracy: 0.75\n",
      "Fold 2, Epoch [1/10], Test Loss: 2.2216506004333496, Test Accuracy: 0.7\n",
      "Fold 2, Epoch [2/10], Test Loss: 2.1123783588409424, Test Accuracy: 0.8\n",
      "Fold 2, Epoch [3/10], Test Loss: 1.4722521305084229, Test Accuracy: 0.7\n",
      "Fold 2, Epoch [4/10], Test Loss: 1.5228444337844849, Test Accuracy: 0.75\n",
      "Fold 2, Epoch [5/10], Test Loss: 2.015700578689575, Test Accuracy: 0.7\n",
      "Fold 2, Epoch [6/10], Test Loss: 1.397169589996338, Test Accuracy: 0.75\n",
      "Fold 2, Epoch [7/10], Test Loss: 1.2597529888153076, Test Accuracy: 0.7\n",
      "Fold 2, Epoch [8/10], Test Loss: 1.0832054615020752, Test Accuracy: 0.8\n",
      "Fold 2, Epoch [9/10], Test Loss: 0.8610973358154297, Test Accuracy: 0.85\n",
      "Fold 2, Epoch [10/10], Test Loss: 0.8580341339111328, Test Accuracy: 0.8\n",
      "Fold 3, Epoch [1/10], Test Loss: 1.021309494972229, Test Accuracy: 0.7\n",
      "Fold 3, Epoch [2/10], Test Loss: 0.9331697225570679, Test Accuracy: 0.85\n",
      "Fold 3, Epoch [3/10], Test Loss: 2.2603561878204346, Test Accuracy: 0.7\n",
      "Fold 3, Epoch [4/10], Test Loss: 2.4435415267944336, Test Accuracy: 0.7\n",
      "Fold 3, Epoch [5/10], Test Loss: 2.538918972015381, Test Accuracy: 0.7\n",
      "Fold 3, Epoch [6/10], Test Loss: 1.9061956405639648, Test Accuracy: 0.75\n",
      "Fold 3, Epoch [7/10], Test Loss: 1.9965181350708008, Test Accuracy: 0.75\n",
      "Fold 3, Epoch [8/10], Test Loss: 2.0650761127471924, Test Accuracy: 0.8\n",
      "Fold 3, Epoch [9/10], Test Loss: 2.2828874588012695, Test Accuracy: 0.8\n",
      "Fold 3, Epoch [10/10], Test Loss: 2.4358410835266113, Test Accuracy: 0.75\n",
      "Fold 4, Epoch [1/10], Test Loss: 0.45136818289756775, Test Accuracy: 0.8947368421052632\n",
      "Fold 4, Epoch [2/10], Test Loss: 2.1181092262268066, Test Accuracy: 0.7368421052631579\n",
      "Fold 4, Epoch [3/10], Test Loss: 0.7738608121871948, Test Accuracy: 0.8421052631578947\n",
      "Fold 4, Epoch [4/10], Test Loss: 0.22007979452610016, Test Accuracy: 0.9473684210526315\n",
      "Fold 4, Epoch [5/10], Test Loss: 1.0327738523483276, Test Accuracy: 0.8421052631578947\n",
      "Fold 4, Epoch [6/10], Test Loss: 1.0413448810577393, Test Accuracy: 0.7894736842105263\n",
      "Fold 4, Epoch [7/10], Test Loss: 0.7871357798576355, Test Accuracy: 0.8421052631578947\n",
      "Fold 4, Epoch [8/10], Test Loss: 0.6155746579170227, Test Accuracy: 0.7894736842105263\n",
      "Fold 4, Epoch [9/10], Test Loss: 0.7901089787483215, Test Accuracy: 0.7894736842105263\n",
      "Fold 4, Epoch [10/10], Test Loss: 1.529781699180603, Test Accuracy: 0.6842105263157895\n",
      "Fold 5, Epoch [1/10], Test Loss: 2.112370491027832, Test Accuracy: 0.8947368421052632\n",
      "Fold 5, Epoch [2/10], Test Loss: 2.2458910942077637, Test Accuracy: 0.9473684210526315\n",
      "Fold 5, Epoch [3/10], Test Loss: 2.4108598232269287, Test Accuracy: 0.7894736842105263\n",
      "Fold 5, Epoch [4/10], Test Loss: 2.3716952800750732, Test Accuracy: 0.8421052631578947\n",
      "Fold 5, Epoch [5/10], Test Loss: 2.0709221363067627, Test Accuracy: 0.8421052631578947\n",
      "Fold 5, Epoch [6/10], Test Loss: 2.1789698600769043, Test Accuracy: 0.8421052631578947\n",
      "Fold 5, Epoch [7/10], Test Loss: 2.197390556335449, Test Accuracy: 0.7894736842105263\n",
      "Fold 5, Epoch [8/10], Test Loss: 2.143578052520752, Test Accuracy: 0.8421052631578947\n",
      "Fold 5, Epoch [9/10], Test Loss: 2.0217132568359375, Test Accuracy: 0.8947368421052632\n",
      "Fold 5, Epoch [10/10], Test Loss: 1.9870928525924683, Test Accuracy: 0.8421052631578947\n",
      "(1, [128])\n",
      "\n",
      "Hidden Size: [64, 32], Num Layers: 2\n",
      "Fold 1, Epoch [1/10], Test Loss: 0.669474720954895, Test Accuracy: 0.8\n",
      "Fold 1, Epoch [2/10], Test Loss: 0.6825078725814819, Test Accuracy: 0.65\n",
      "Fold 1, Epoch [3/10], Test Loss: 0.7309528589248657, Test Accuracy: 0.75\n",
      "Fold 1, Epoch [4/10], Test Loss: 0.6911161541938782, Test Accuracy: 0.7\n",
      "Fold 1, Epoch [5/10], Test Loss: 0.6629959344863892, Test Accuracy: 0.75\n",
      "Fold 1, Epoch [6/10], Test Loss: 0.6443865895271301, Test Accuracy: 0.8\n",
      "Fold 1, Epoch [7/10], Test Loss: 0.6854951977729797, Test Accuracy: 0.85\n",
      "Fold 1, Epoch [8/10], Test Loss: 0.6907972097396851, Test Accuracy: 0.8\n",
      "Fold 1, Epoch [9/10], Test Loss: 0.8211542963981628, Test Accuracy: 0.8\n",
      "Fold 1, Epoch [10/10], Test Loss: 0.8277144432067871, Test Accuracy: 0.8\n",
      "Fold 2, Epoch [1/10], Test Loss: 0.6740705966949463, Test Accuracy: 0.8\n",
      "Fold 2, Epoch [2/10], Test Loss: 0.34908685088157654, Test Accuracy: 0.9\n",
      "Fold 2, Epoch [3/10], Test Loss: 0.5862635970115662, Test Accuracy: 0.85\n",
      "Fold 2, Epoch [4/10], Test Loss: 0.8031776547431946, Test Accuracy: 0.85\n",
      "Fold 2, Epoch [5/10], Test Loss: 0.81867516040802, Test Accuracy: 0.8\n",
      "Fold 2, Epoch [6/10], Test Loss: 0.8788531422615051, Test Accuracy: 0.8\n",
      "Fold 2, Epoch [7/10], Test Loss: 0.8604464530944824, Test Accuracy: 0.85\n",
      "Fold 2, Epoch [8/10], Test Loss: 0.8495341539382935, Test Accuracy: 0.8\n",
      "Fold 2, Epoch [9/10], Test Loss: 0.8268269300460815, Test Accuracy: 0.8\n",
      "Fold 2, Epoch [10/10], Test Loss: 0.7462955713272095, Test Accuracy: 0.75\n",
      "Fold 3, Epoch [1/10], Test Loss: 0.5147396326065063, Test Accuracy: 0.85\n",
      "Fold 3, Epoch [2/10], Test Loss: 1.1538174152374268, Test Accuracy: 0.55\n",
      "Fold 3, Epoch [3/10], Test Loss: 0.5533274412155151, Test Accuracy: 0.75\n",
      "Fold 3, Epoch [4/10], Test Loss: 0.35733562707901, Test Accuracy: 0.85\n",
      "Fold 3, Epoch [5/10], Test Loss: 0.3559246361255646, Test Accuracy: 0.85\n",
      "Fold 3, Epoch [6/10], Test Loss: 0.40623965859413147, Test Accuracy: 0.75\n",
      "Fold 3, Epoch [7/10], Test Loss: 0.5410297513008118, Test Accuracy: 0.75\n",
      "Fold 3, Epoch [8/10], Test Loss: 0.6984751224517822, Test Accuracy: 0.7\n",
      "Fold 3, Epoch [9/10], Test Loss: 0.8532751798629761, Test Accuracy: 0.7\n",
      "Fold 3, Epoch [10/10], Test Loss: 0.9249119758605957, Test Accuracy: 0.7\n",
      "Fold 4, Epoch [1/10], Test Loss: 0.06219534948468208, Test Accuracy: 0.9473684210526315\n",
      "Fold 4, Epoch [2/10], Test Loss: 0.22425681352615356, Test Accuracy: 0.8947368421052632\n",
      "Fold 4, Epoch [3/10], Test Loss: 0.6998498439788818, Test Accuracy: 0.8421052631578947\n",
      "Fold 4, Epoch [4/10], Test Loss: 0.6482551693916321, Test Accuracy: 0.8421052631578947\n",
      "Fold 4, Epoch [5/10], Test Loss: 0.327191025018692, Test Accuracy: 0.8421052631578947\n",
      "Fold 4, Epoch [6/10], Test Loss: 0.09734037518501282, Test Accuracy: 0.9473684210526315\n",
      "Fold 4, Epoch [7/10], Test Loss: 0.07863648980855942, Test Accuracy: 0.9473684210526315\n",
      "Fold 4, Epoch [8/10], Test Loss: 0.18701128661632538, Test Accuracy: 0.8947368421052632\n",
      "Fold 4, Epoch [9/10], Test Loss: 0.36044174432754517, Test Accuracy: 0.8421052631578947\n",
      "Fold 4, Epoch [10/10], Test Loss: 0.42333441972732544, Test Accuracy: 0.8947368421052632\n",
      "Fold 5, Epoch [1/10], Test Loss: 0.5786522626876831, Test Accuracy: 0.9473684210526315\n",
      "Fold 5, Epoch [2/10], Test Loss: 0.8432919383049011, Test Accuracy: 0.9473684210526315\n",
      "Fold 5, Epoch [3/10], Test Loss: 1.1525137424468994, Test Accuracy: 0.8421052631578947\n",
      "Fold 5, Epoch [4/10], Test Loss: 1.126460313796997, Test Accuracy: 0.8421052631578947\n",
      "Fold 5, Epoch [5/10], Test Loss: 0.9778562784194946, Test Accuracy: 0.8947368421052632\n",
      "Fold 5, Epoch [6/10], Test Loss: 0.9601266980171204, Test Accuracy: 0.8421052631578947\n",
      "Fold 5, Epoch [7/10], Test Loss: 1.0342438220977783, Test Accuracy: 0.8421052631578947\n",
      "Fold 5, Epoch [8/10], Test Loss: 1.0545905828475952, Test Accuracy: 0.8421052631578947\n",
      "Fold 5, Epoch [9/10], Test Loss: 0.9717084765434265, Test Accuracy: 0.8421052631578947\n",
      "Fold 5, Epoch [10/10], Test Loss: 0.8854603171348572, Test Accuracy: 0.8947368421052632\n",
      "(2, [64, 32])\n",
      "\n",
      "Hidden Size: [128, 64], Num Layers: 2\n",
      "Fold 1, Epoch [1/10], Test Loss: 0.6150153279304504, Test Accuracy: 0.75\n",
      "Fold 1, Epoch [2/10], Test Loss: 0.5405021905899048, Test Accuracy: 0.8\n",
      "Fold 1, Epoch [3/10], Test Loss: 0.644072413444519, Test Accuracy: 0.7\n",
      "Fold 1, Epoch [4/10], Test Loss: 0.5720747709274292, Test Accuracy: 0.8\n",
      "Fold 1, Epoch [5/10], Test Loss: 0.5513330698013306, Test Accuracy: 0.8\n",
      "Fold 1, Epoch [6/10], Test Loss: 0.5231173038482666, Test Accuracy: 0.8\n",
      "Fold 1, Epoch [7/10], Test Loss: 0.6165766716003418, Test Accuracy: 0.8\n",
      "Fold 1, Epoch [8/10], Test Loss: 0.6716669201850891, Test Accuracy: 0.85\n",
      "Fold 1, Epoch [9/10], Test Loss: 0.6092661619186401, Test Accuracy: 0.8\n",
      "Fold 1, Epoch [10/10], Test Loss: 0.6229878067970276, Test Accuracy: 0.85\n",
      "Fold 2, Epoch [1/10], Test Loss: 0.44196659326553345, Test Accuracy: 0.9\n",
      "Fold 2, Epoch [2/10], Test Loss: 0.4221457540988922, Test Accuracy: 0.85\n",
      "Fold 2, Epoch [3/10], Test Loss: 0.5475412011146545, Test Accuracy: 0.8\n",
      "Fold 2, Epoch [4/10], Test Loss: 0.9288895726203918, Test Accuracy: 0.75\n",
      "Fold 2, Epoch [5/10], Test Loss: 0.7891057133674622, Test Accuracy: 0.75\n",
      "Fold 2, Epoch [6/10], Test Loss: 0.6763597726821899, Test Accuracy: 0.85\n",
      "Fold 2, Epoch [7/10], Test Loss: 0.9197298884391785, Test Accuracy: 0.7\n",
      "Fold 2, Epoch [8/10], Test Loss: 0.9760357141494751, Test Accuracy: 0.75\n",
      "Fold 2, Epoch [9/10], Test Loss: 1.006642460823059, Test Accuracy: 0.75\n",
      "Fold 2, Epoch [10/10], Test Loss: 1.0627458095550537, Test Accuracy: 0.75\n",
      "Fold 3, Epoch [1/10], Test Loss: 0.5400486588478088, Test Accuracy: 0.85\n",
      "Fold 3, Epoch [2/10], Test Loss: 0.6669146418571472, Test Accuracy: 0.85\n",
      "Fold 3, Epoch [3/10], Test Loss: 0.7529705762863159, Test Accuracy: 0.85\n",
      "Fold 3, Epoch [4/10], Test Loss: 0.834132969379425, Test Accuracy: 0.8\n",
      "Fold 3, Epoch [5/10], Test Loss: 0.9531522989273071, Test Accuracy: 0.75\n",
      "Fold 3, Epoch [6/10], Test Loss: 1.3134701251983643, Test Accuracy: 0.7\n",
      "Fold 3, Epoch [7/10], Test Loss: 1.5116479396820068, Test Accuracy: 0.75\n",
      "Fold 3, Epoch [8/10], Test Loss: 1.410104751586914, Test Accuracy: 0.75\n",
      "Fold 3, Epoch [9/10], Test Loss: 1.36714506149292, Test Accuracy: 0.75\n",
      "Fold 3, Epoch [10/10], Test Loss: 1.4119417667388916, Test Accuracy: 0.75\n",
      "Fold 4, Epoch [1/10], Test Loss: 0.18976527452468872, Test Accuracy: 0.9473684210526315\n",
      "Fold 4, Epoch [2/10], Test Loss: 0.2883606553077698, Test Accuracy: 0.8947368421052632\n",
      "Fold 4, Epoch [3/10], Test Loss: 0.34783050417900085, Test Accuracy: 0.8421052631578947\n",
      "Fold 4, Epoch [4/10], Test Loss: 0.14206047356128693, Test Accuracy: 0.8947368421052632\n",
      "Fold 4, Epoch [5/10], Test Loss: 0.18402089178562164, Test Accuracy: 0.8947368421052632\n",
      "Fold 4, Epoch [6/10], Test Loss: 0.20890070497989655, Test Accuracy: 0.8947368421052632\n",
      "Fold 4, Epoch [7/10], Test Loss: 0.16118770837783813, Test Accuracy: 0.8947368421052632\n",
      "Fold 4, Epoch [8/10], Test Loss: 0.13103744387626648, Test Accuracy: 0.8947368421052632\n",
      "Fold 4, Epoch [9/10], Test Loss: 0.18132947385311127, Test Accuracy: 0.8947368421052632\n",
      "Fold 4, Epoch [10/10], Test Loss: 0.29429104924201965, Test Accuracy: 0.8421052631578947\n",
      "Fold 5, Epoch [1/10], Test Loss: 0.2676558196544647, Test Accuracy: 0.8947368421052632\n",
      "Fold 5, Epoch [2/10], Test Loss: 0.4349137246608734, Test Accuracy: 0.8421052631578947\n",
      "Fold 5, Epoch [3/10], Test Loss: 0.7116290926933289, Test Accuracy: 0.8421052631578947\n",
      "Fold 5, Epoch [4/10], Test Loss: 0.943666934967041, Test Accuracy: 0.7894736842105263\n",
      "Fold 5, Epoch [5/10], Test Loss: 1.1645275354385376, Test Accuracy: 0.7894736842105263\n",
      "Fold 5, Epoch [6/10], Test Loss: 1.0533760786056519, Test Accuracy: 0.7894736842105263\n",
      "Fold 5, Epoch [7/10], Test Loss: 0.8218072056770325, Test Accuracy: 0.7894736842105263\n",
      "Fold 5, Epoch [8/10], Test Loss: 0.9030953645706177, Test Accuracy: 0.7894736842105263\n",
      "Fold 5, Epoch [9/10], Test Loss: 1.1272140741348267, Test Accuracy: 0.7894736842105263\n",
      "Fold 5, Epoch [10/10], Test Loss: 1.4387911558151245, Test Accuracy: 0.7368421052631579\n",
      "(2, [128, 64])\n",
      "\n",
      "Hidden Size: [128, 64, 32], Num Layers: 3\n",
      "Fold 1, Epoch [1/10], Test Loss: 0.5884094834327698, Test Accuracy: 0.8\n",
      "Fold 1, Epoch [2/10], Test Loss: 0.699396550655365, Test Accuracy: 0.75\n",
      "Fold 1, Epoch [3/10], Test Loss: 0.7550116181373596, Test Accuracy: 0.7\n",
      "Fold 1, Epoch [4/10], Test Loss: 0.5682702660560608, Test Accuracy: 0.8\n",
      "Fold 1, Epoch [5/10], Test Loss: 0.5013465285301208, Test Accuracy: 0.8\n",
      "Fold 1, Epoch [6/10], Test Loss: 0.5069541335105896, Test Accuracy: 0.8\n",
      "Fold 1, Epoch [7/10], Test Loss: 0.5767454504966736, Test Accuracy: 0.8\n",
      "Fold 1, Epoch [8/10], Test Loss: 0.6487506628036499, Test Accuracy: 0.7\n",
      "Fold 1, Epoch [9/10], Test Loss: 0.6760119199752808, Test Accuracy: 0.8\n",
      "Fold 1, Epoch [10/10], Test Loss: 0.6931761503219604, Test Accuracy: 0.8\n",
      "Fold 2, Epoch [1/10], Test Loss: 0.40072232484817505, Test Accuracy: 0.85\n",
      "Fold 2, Epoch [2/10], Test Loss: 0.48282894492149353, Test Accuracy: 0.7\n",
      "Fold 2, Epoch [3/10], Test Loss: 0.4538978636264801, Test Accuracy: 0.75\n",
      "Fold 2, Epoch [4/10], Test Loss: 0.6217373013496399, Test Accuracy: 0.75\n",
      "Fold 2, Epoch [5/10], Test Loss: 0.6940808892250061, Test Accuracy: 0.75\n",
      "Fold 2, Epoch [6/10], Test Loss: 0.6254319548606873, Test Accuracy: 0.8\n",
      "Fold 2, Epoch [7/10], Test Loss: 0.5124725699424744, Test Accuracy: 0.85\n",
      "Fold 2, Epoch [8/10], Test Loss: 0.5262972712516785, Test Accuracy: 0.85\n",
      "Fold 2, Epoch [9/10], Test Loss: 0.6169629096984863, Test Accuracy: 0.75\n",
      "Fold 2, Epoch [10/10], Test Loss: 0.7103180289268494, Test Accuracy: 0.7\n",
      "Fold 3, Epoch [1/10], Test Loss: 0.3384726047515869, Test Accuracy: 0.85\n",
      "Fold 3, Epoch [2/10], Test Loss: 0.5907573103904724, Test Accuracy: 0.85\n",
      "Fold 3, Epoch [3/10], Test Loss: 0.5579262375831604, Test Accuracy: 0.8\n",
      "Fold 3, Epoch [4/10], Test Loss: 0.7108280658721924, Test Accuracy: 0.75\n",
      "Fold 3, Epoch [5/10], Test Loss: 0.6455968618392944, Test Accuracy: 0.8\n",
      "Fold 3, Epoch [6/10], Test Loss: 0.5887150168418884, Test Accuracy: 0.8\n",
      "Fold 3, Epoch [7/10], Test Loss: 0.5902372598648071, Test Accuracy: 0.75\n",
      "Fold 3, Epoch [8/10], Test Loss: 0.6719192266464233, Test Accuracy: 0.75\n",
      "Fold 3, Epoch [9/10], Test Loss: 0.7993659973144531, Test Accuracy: 0.7\n",
      "Fold 3, Epoch [10/10], Test Loss: 0.9044448733329773, Test Accuracy: 0.7\n",
      "Fold 4, Epoch [1/10], Test Loss: 0.16655360162258148, Test Accuracy: 0.8947368421052632\n",
      "Fold 4, Epoch [2/10], Test Loss: 0.06380733102560043, Test Accuracy: 0.9473684210526315\n",
      "Fold 4, Epoch [3/10], Test Loss: 0.05162898823618889, Test Accuracy: 0.9473684210526315\n",
      "Fold 4, Epoch [4/10], Test Loss: 0.10982880741357803, Test Accuracy: 0.9473684210526315\n",
      "Fold 4, Epoch [5/10], Test Loss: 0.17961947619915009, Test Accuracy: 0.8947368421052632\n",
      "Fold 4, Epoch [6/10], Test Loss: 0.23862244188785553, Test Accuracy: 0.8421052631578947\n",
      "Fold 4, Epoch [7/10], Test Loss: 0.2515680491924286, Test Accuracy: 0.8947368421052632\n",
      "Fold 4, Epoch [8/10], Test Loss: 0.1993904560804367, Test Accuracy: 0.8947368421052632\n",
      "Fold 4, Epoch [9/10], Test Loss: 0.18549184501171112, Test Accuracy: 0.8947368421052632\n",
      "Fold 4, Epoch [10/10], Test Loss: 0.17638418078422546, Test Accuracy: 0.8947368421052632\n",
      "Fold 5, Epoch [1/10], Test Loss: 0.24356746673583984, Test Accuracy: 0.9473684210526315\n",
      "Fold 5, Epoch [2/10], Test Loss: 0.13228769600391388, Test Accuracy: 0.9473684210526315\n",
      "Fold 5, Epoch [3/10], Test Loss: 0.27993106842041016, Test Accuracy: 0.8947368421052632\n",
      "Fold 5, Epoch [4/10], Test Loss: 0.6597810387611389, Test Accuracy: 0.8421052631578947\n",
      "Fold 5, Epoch [5/10], Test Loss: 0.8821755647659302, Test Accuracy: 0.8947368421052632\n",
      "Fold 5, Epoch [6/10], Test Loss: 1.0072449445724487, Test Accuracy: 0.8947368421052632\n",
      "Fold 5, Epoch [7/10], Test Loss: 1.1674447059631348, Test Accuracy: 0.8947368421052632\n",
      "Fold 5, Epoch [8/10], Test Loss: 1.357235074043274, Test Accuracy: 0.8947368421052632\n",
      "Fold 5, Epoch [9/10], Test Loss: 1.4584487676620483, Test Accuracy: 0.8947368421052632\n",
      "Fold 5, Epoch [10/10], Test Loss: 1.5381032228469849, Test Accuracy: 0.8947368421052632\n",
      "(3, [128, 64, 32])\n",
      "\n",
      "Hidden Size: [64, 32, 16], Num Layers: 3\n",
      "Fold 1, Epoch [1/10], Test Loss: 0.6010197401046753, Test Accuracy: 0.8\n",
      "Fold 1, Epoch [2/10], Test Loss: 0.7079087495803833, Test Accuracy: 0.85\n",
      "Fold 1, Epoch [3/10], Test Loss: 0.680504322052002, Test Accuracy: 0.75\n",
      "Fold 1, Epoch [4/10], Test Loss: 0.6329508423805237, Test Accuracy: 0.75\n",
      "Fold 1, Epoch [5/10], Test Loss: 0.6227561831474304, Test Accuracy: 0.75\n",
      "Fold 1, Epoch [6/10], Test Loss: 0.6483039855957031, Test Accuracy: 0.8\n",
      "Fold 1, Epoch [7/10], Test Loss: 0.6334876418113708, Test Accuracy: 0.8\n",
      "Fold 1, Epoch [8/10], Test Loss: 0.6133303642272949, Test Accuracy: 0.8\n",
      "Fold 1, Epoch [9/10], Test Loss: 0.6310871839523315, Test Accuracy: 0.8\n",
      "Fold 1, Epoch [10/10], Test Loss: 0.6864440441131592, Test Accuracy: 0.8\n",
      "Fold 2, Epoch [1/10], Test Loss: 0.25142619013786316, Test Accuracy: 0.9\n",
      "Fold 2, Epoch [2/10], Test Loss: 0.35648128390312195, Test Accuracy: 0.8\n",
      "Fold 2, Epoch [3/10], Test Loss: 0.3424442708492279, Test Accuracy: 0.8\n",
      "Fold 2, Epoch [4/10], Test Loss: 0.4365513324737549, Test Accuracy: 0.9\n",
      "Fold 2, Epoch [5/10], Test Loss: 0.5718408823013306, Test Accuracy: 0.85\n",
      "Fold 2, Epoch [6/10], Test Loss: 0.52019202709198, Test Accuracy: 0.85\n",
      "Fold 2, Epoch [7/10], Test Loss: 0.49839773774147034, Test Accuracy: 0.85\n",
      "Fold 2, Epoch [8/10], Test Loss: 0.5631200075149536, Test Accuracy: 0.85\n",
      "Fold 2, Epoch [9/10], Test Loss: 0.5346077680587769, Test Accuracy: 0.85\n",
      "Fold 2, Epoch [10/10], Test Loss: 0.6036331057548523, Test Accuracy: 0.85\n",
      "Fold 3, Epoch [1/10], Test Loss: 0.2687309980392456, Test Accuracy: 0.8\n",
      "Fold 3, Epoch [2/10], Test Loss: 0.28856417536735535, Test Accuracy: 0.9\n",
      "Fold 3, Epoch [3/10], Test Loss: 0.21328306198120117, Test Accuracy: 0.9\n",
      "Fold 3, Epoch [4/10], Test Loss: 0.21108226478099823, Test Accuracy: 0.95\n",
      "Fold 3, Epoch [5/10], Test Loss: 0.2799242436885834, Test Accuracy: 0.9\n",
      "Fold 3, Epoch [6/10], Test Loss: 0.4685853123664856, Test Accuracy: 0.8\n",
      "Fold 3, Epoch [7/10], Test Loss: 0.6140598654747009, Test Accuracy: 0.8\n",
      "Fold 3, Epoch [8/10], Test Loss: 0.6573345065116882, Test Accuracy: 0.85\n",
      "Fold 3, Epoch [9/10], Test Loss: 0.6497266888618469, Test Accuracy: 0.8\n",
      "Fold 3, Epoch [10/10], Test Loss: 0.6551550030708313, Test Accuracy: 0.8\n",
      "Fold 4, Epoch [1/10], Test Loss: 0.05586248263716698, Test Accuracy: 0.9473684210526315\n",
      "Fold 4, Epoch [2/10], Test Loss: 0.2411513775587082, Test Accuracy: 0.8947368421052632\n",
      "Fold 4, Epoch [3/10], Test Loss: 0.2530263364315033, Test Accuracy: 0.8947368421052632\n",
      "Fold 4, Epoch [4/10], Test Loss: 0.10709547996520996, Test Accuracy: 0.9473684210526315\n",
      "Fold 4, Epoch [5/10], Test Loss: 0.0952429547905922, Test Accuracy: 0.9473684210526315\n",
      "Fold 4, Epoch [6/10], Test Loss: 0.12835681438446045, Test Accuracy: 0.9473684210526315\n",
      "Fold 4, Epoch [7/10], Test Loss: 0.15146130323410034, Test Accuracy: 0.8947368421052632\n",
      "Fold 4, Epoch [8/10], Test Loss: 0.16020850837230682, Test Accuracy: 0.8947368421052632\n",
      "Fold 4, Epoch [9/10], Test Loss: 0.18168064951896667, Test Accuracy: 0.8421052631578947\n",
      "Fold 4, Epoch [10/10], Test Loss: 0.19623328745365143, Test Accuracy: 0.8421052631578947\n",
      "Fold 5, Epoch [1/10], Test Loss: 0.18816842138767242, Test Accuracy: 0.9473684210526315\n",
      "Fold 5, Epoch [2/10], Test Loss: 0.19271747767925262, Test Accuracy: 0.9473684210526315\n",
      "Fold 5, Epoch [3/10], Test Loss: 0.21883182227611542, Test Accuracy: 0.9473684210526315\n",
      "Fold 5, Epoch [4/10], Test Loss: 0.24608656764030457, Test Accuracy: 0.9473684210526315\n",
      "Fold 5, Epoch [5/10], Test Loss: 0.25674429535865784, Test Accuracy: 0.8947368421052632\n",
      "Fold 5, Epoch [6/10], Test Loss: 0.2139032781124115, Test Accuracy: 0.8947368421052632\n",
      "Fold 5, Epoch [7/10], Test Loss: 0.184163436293602, Test Accuracy: 0.8947368421052632\n",
      "Fold 5, Epoch [8/10], Test Loss: 0.20939373970031738, Test Accuracy: 0.8947368421052632\n",
      "Fold 5, Epoch [9/10], Test Loss: 0.2921238839626312, Test Accuracy: 0.8947368421052632\n",
      "Fold 5, Epoch [10/10], Test Loss: 0.37949055433273315, Test Accuracy: 0.8947368421052632\n",
      "(3, [64, 32, 16])\n",
      "\n",
      "Best Model:\n",
      "Hidden Size: [64, 32, 16], Num Layers: 3\n"
     ]
    }
   ],
   "source": [
    "# Define hyperparameter search space\n",
    "hidden_size_options = [[64], [128], [64, 32], [128, 64], [128,64,32], [64,32,16]]\n",
    "\n",
    "\n",
    "best_model = hyperparameter_search(features, labels, hidden_size_options)\n"
   ]
  },
  {
   "cell_type": "markdown",
   "metadata": {
    "id": "Ap9gerD8wm3Z"
   },
   "source": [
    "## Best model evaluation"
   ]
  },
  {
   "cell_type": "code",
   "execution_count": null,
   "metadata": {
    "id": "BA3TUPaP9wm3"
   },
   "outputs": [],
   "source": [
    "## TODO : Further analysis of the best model"
   ]
  }
 ],
 "metadata": {
  "colab": {
   "collapsed_sections": [
    "AtFdD0NZvwvm",
    "frW50GEwv5Av",
    "7uHyY0NiwABx",
    "dAiH0fM5wD43",
    "9MiahaTBwaa8",
    "UBvOO-OXwcs1",
    "NDgEs90IwjNP",
    "Ap9gerD8wm3Z"
   ],
   "provenance": []
  },
  "kernelspec": {
   "display_name": "venv",
   "language": "python",
   "name": "venv"
  },
  "language_info": {
   "codemirror_mode": {
    "name": "ipython",
    "version": 3
   },
   "file_extension": ".py",
   "mimetype": "text/x-python",
   "name": "python",
   "nbconvert_exporter": "python",
   "pygments_lexer": "ipython3",
   "version": "3.11.6"
  }
 },
 "nbformat": 4,
 "nbformat_minor": 0
}
