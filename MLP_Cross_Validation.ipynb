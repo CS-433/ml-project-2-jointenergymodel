{
  "nbformat": 4,
  "nbformat_minor": 0,
  "metadata": {
    "colab": {
      "provenance": [],
      "collapsed_sections": [
        "AtFdD0NZvwvm",
        "frW50GEwv5Av",
        "7uHyY0NiwABx",
        "dAiH0fM5wD43",
        "9MiahaTBwaa8",
        "UBvOO-OXwcs1",
        "NDgEs90IwjNP",
        "Ap9gerD8wm3Z"
      ]
    },
    "kernelspec": {
      "name": "python3",
      "display_name": "Python 3"
    },
    "language_info": {
      "name": "python"
    }
  },
  "cells": [
    {
      "cell_type": "code",
      "execution_count": 1,
      "metadata": {
        "id": "Es7ciHwyjdse"
      },
      "outputs": [],
      "source": [
        "import pandas as pd\n",
        "import numpy as np\n",
        "from sklearn.model_selection import StratifiedKFold\n",
        "from sklearn.preprocessing import StandardScaler\n",
        "import torch\n",
        "import torch.nn as nn\n",
        "import torch.optim as optim\n",
        "from torch.utils.data import DataLoader, TensorDataset"
      ]
    },
    {
      "cell_type": "markdown",
      "source": [
        "# **Functions**"
      ],
      "metadata": {
        "id": "bFJwbme5wLb2"
      }
    },
    {
      "cell_type": "markdown",
      "source": [
        "## Data loading functions"
      ],
      "metadata": {
        "id": "AtFdD0NZvwvm"
      }
    },
    {
      "cell_type": "code",
      "source": [
        "def load_dataset(csv_path):\n",
        "    \"\"\"\n",
        "    Load the dataset made of labels and TMD features stored ar csv_path\n",
        "        - csv_path: String giving the path where the dataset is stored\n",
        "    Returns features and labels as Pandas DataFrames\n",
        "    \"\"\"\n",
        "    df = pd.read_csv(csv_path)\n",
        "    labels = df.iloc[:, 0].values.astype(int)\n",
        "    features = df.iloc[:, 1:].values\n",
        "    return features, labels\n",
        "\n",
        "def standardize_features(features):\n",
        "  \"\"\"\n",
        "  Make every feature centered and scaled to unit variance\n",
        "      - features: Pandas DataFrame\n",
        "  \"\"\"\n",
        "  scaler = StandardScaler()\n",
        "  return scaler.fit_transform(features)"
      ],
      "metadata": {
        "id": "-rZIyZjZj2Oc"
      },
      "execution_count": 31,
      "outputs": []
    },
    {
      "cell_type": "markdown",
      "source": [
        "## Creation of custom MLP"
      ],
      "metadata": {
        "id": "frW50GEwv5Av"
      }
    },
    {
      "cell_type": "code",
      "source": [
        "def create_mlp(input_size, hidden_sizes, output_size=2):\n",
        "  \"\"\"\n",
        "  Defines a function to create a MLP model with variable architecture\n",
        "      -input_size, output_size : Integers giving the size of input and input\n",
        "      -hidden_size : List of integers corresponding to the hidden layers widths\n",
        "  \"\"\"\n",
        "  layers = []\n",
        "  sizes = [input_size] + hidden_sizes + [output_size]\n",
        "  for i in range(len(sizes) - 1):\n",
        "      layers.append(nn.Linear(sizes[i], sizes[i+1]))\n",
        "      if i < len(sizes) - 2:\n",
        "          layers.append(nn.ReLU())\n",
        "  return nn.Sequential(*layers)"
      ],
      "metadata": {
        "id": "GYKwVNuckWwm"
      },
      "execution_count": 25,
      "outputs": []
    },
    {
      "cell_type": "markdown",
      "source": [
        "## Cross validation for a given model"
      ],
      "metadata": {
        "id": "7uHyY0NiwABx"
      }
    },
    {
      "cell_type": "code",
      "source": [
        "def cross_validation(model, features, labels, num_epochs=10, batch_size=32, learning_rate=0.001, num_splits=5):\n",
        "  \"\"\"\n",
        "  For a given model and dataset (features, labels) this funciton performs K_fold cross validation\n",
        "      -model: Pytorch MLP model with appropriate input and output sizes\n",
        "      -features, labels = Dataset in the form of two Pandas dataframes\n",
        "      -num_epoch, batch_size, learning_rate : usual NN parameters\n",
        "      -num_split : number of splits for the K_fold CV\n",
        "  Returns a list with the num_splits values of validation loss\n",
        "  \"\"\"\n",
        "  skf = StratifiedKFold(n_splits=num_splits, shuffle=True, random_state=42)\n",
        "  criterion = nn.CrossEntropyLoss()\n",
        "\n",
        "  all_val_losses = []\n",
        "\n",
        "  for fold, (train_index, test_index) in enumerate(skf.split(features, labels)):\n",
        "    train_features, test_features = features[train_index], features[test_index]\n",
        "    train_labels, test_labels = labels[train_index], labels[test_index]\n",
        "\n",
        "    train_dataset = TensorDataset(torch.tensor(train_features, dtype=torch.float32),\n",
        "                                  torch.tensor(train_labels, dtype=torch.long))\n",
        "    test_dataset = TensorDataset(torch.tensor(test_features, dtype=torch.float32),\n",
        "                                  torch.tensor(test_labels, dtype=torch.long))\n",
        "\n",
        "    train_loader = DataLoader(train_dataset, batch_size=batch_size, shuffle=True)\n",
        "    test_loader = DataLoader(test_dataset, batch_size=batch_size, shuffle=False)\n",
        "\n",
        "    optimizer = optim.Adam(model.parameters(), lr=learning_rate)\n",
        "\n",
        "    val_losses = []\n",
        "\n",
        "    for epoch in range(num_epochs):\n",
        "        model.train()\n",
        "        for batch_features, batch_labels in train_loader:\n",
        "          optimizer.zero_grad()\n",
        "          outputs = model(batch_features)\n",
        "          loss = criterion(outputs, batch_labels)\n",
        "          loss.backward()\n",
        "          optimizer.step()\n",
        "\n",
        "        model.eval()\n",
        "        val_loss = 0.0\n",
        "        correct = 0\n",
        "        total = 0\n",
        "        with torch.no_grad():\n",
        "          for batch_features, batch_labels in test_loader:\n",
        "            outputs = model(batch_features)\n",
        "            loss = criterion(outputs, batch_labels)\n",
        "            val_loss += loss.item()\n",
        "            _, predicted = torch.max(outputs.data, 1)\n",
        "            total += batch_labels.size(0)\n",
        "            correct += (predicted == batch_labels).sum().item()\n",
        "\n",
        "        accuracy = correct / total\n",
        "        val_losses.append(val_loss / len(test_loader))\n",
        "        print(f'Fold {fold + 1}, Epoch [{epoch + 1}/{num_epochs}], Test Loss: {val_losses[-1]}, Test Accuracy: {accuracy}')\n",
        "\n",
        "    all_val_losses.append(val_losses)\n",
        "\n",
        "  return all_val_losses\n"
      ],
      "metadata": {
        "id": "wBYh0ND8kK9i"
      },
      "execution_count": 78,
      "outputs": []
    },
    {
      "cell_type": "markdown",
      "source": [
        "## Hyperparamters search (i.e test cross_validation result for different models)"
      ],
      "metadata": {
        "id": "dAiH0fM5wD43"
      }
    },
    {
      "cell_type": "code",
      "source": [
        "def hyperparameter_search(features, labels, hidden_size_options, num_splits=5, num_epochs=10, batch_size=32, learning_rate=0.001):\n",
        "  \"\"\"\n",
        "  Performs hyperparameters search in terms of width and depth for the MLP\n",
        "      -features, labels, num_splits=5, num_epochs=10, batch_size=32, learning_rate=0.001 : same as cross_validation\n",
        "      -num_layers_options : list of integers corresponding to the number of hidden layers in each architecture to be tested\n",
        "      -hidden_size_options : list of tuples of integers giving the sizes of each hidden leayer in each architecture to be tested. Must be consistent with num_layers_options\n",
        "  \"\"\"\n",
        "\n",
        "  #Consistency check\n",
        "  best_loss = np.inf\n",
        "  best_model = None\n",
        "  best_hidden_size = None\n",
        "  best_num_layers = None\n",
        "\n",
        "  losses = {}\n",
        "\n",
        "  for hidden_size_option in hidden_size_options:\n",
        "\n",
        "    model = create_mlp(features.shape[1], hidden_size_option, len(np.unique(labels)))\n",
        "    print(f\"\\nHidden Size: {hidden_size_option}, Num Layers: {len(hidden_size_option)}\")\n",
        "\n",
        "    validation_loss = np.average(cross_validation(model, features, labels, num_epochs=num_epochs, batch_size=batch_size,\n",
        "                            learning_rate=learning_rate, num_splits=num_splits))\n",
        "\n",
        "    print((len(hidden_size_option),hidden_size_option))\n",
        "    losses[(len(hidden_size_option),tuple(hidden_size_option))] = validation_loss\n",
        "\n",
        "    if validation_loss < best_loss:\n",
        "        best_loss = validation_loss\n",
        "        best_model = model\n",
        "        best_hidden_size = hidden_size_option\n",
        "        best_num_layers = len(hidden_size_option)\n",
        "\n",
        "  print(\"\\nBest Model:\")\n",
        "  print(f\"Hidden Size: {best_hidden_size}, Num Layers: {best_num_layers}\")\n",
        "  return best_model\n"
      ],
      "metadata": {
        "id": "xUf0yUOnkvyV"
      },
      "execution_count": 83,
      "outputs": []
    },
    {
      "cell_type": "markdown",
      "source": [
        "# **Actual tests**"
      ],
      "metadata": {
        "id": "Quagx6lswRag"
      }
    },
    {
      "cell_type": "markdown",
      "source": [
        "## Data loading"
      ],
      "metadata": {
        "id": "9MiahaTBwaa8"
      }
    },
    {
      "cell_type": "code",
      "source": [
        "from google.colab import drive\n",
        "drive.mount('/content/gdrive')"
      ],
      "metadata": {
        "colab": {
          "base_uri": "https://localhost:8080/"
        },
        "id": "OsngUMTDuJiv",
        "outputId": "210e0d4d-b75b-4926-be7e-3d9562923051"
      },
      "execution_count": 65,
      "outputs": [
        {
          "output_type": "stream",
          "name": "stdout",
          "text": [
            "Drive already mounted at /content/gdrive; to attempt to forcibly remount, call drive.mount(\"/content/gdrive\", force_remount=True).\n"
          ]
        }
      ]
    },
    {
      "cell_type": "code",
      "source": [
        "data_path = '/content/gdrive/MyDrive/OutputCS433/dataset.csv'"
      ],
      "metadata": {
        "id": "-AtE5-bKuGZg"
      },
      "execution_count": 66,
      "outputs": []
    },
    {
      "cell_type": "code",
      "source": [
        "features, labels = load_dataset(data_path)\n",
        "features = standardize_features(features)\n",
        "\n",
        "input_size = features.shape[1]"
      ],
      "metadata": {
        "id": "pk2hbfnNwVMP"
      },
      "execution_count": 67,
      "outputs": []
    },
    {
      "cell_type": "code",
      "source": [
        "print(np.unique(labels,return_counts=True))"
      ],
      "metadata": {
        "colab": {
          "base_uri": "https://localhost:8080/"
        },
        "id": "QZzwC-0S-TP3",
        "outputId": "10837a74-3a3f-46d2-feb4-536e0214677e"
      },
      "execution_count": 88,
      "outputs": [
        {
          "output_type": "stream",
          "name": "stdout",
          "text": [
            "(array([0, 1]), array([79, 19]))\n"
          ]
        }
      ]
    },
    {
      "cell_type": "markdown",
      "source": [
        "## A first model (Note: Using weighted cross entropy)"
      ],
      "metadata": {
        "id": "UBvOO-OXwcs1"
      }
    },
    {
      "cell_type": "code",
      "source": [
        "model1 = create_mlp(input_size,[32],2)"
      ],
      "metadata": {
        "id": "UMB4sjFew4uQ"
      },
      "execution_count": 104,
      "outputs": []
    },
    {
      "cell_type": "code",
      "source": [
        "model=model1\n",
        "batch_size=32\n",
        "num_epochs=50\n",
        "learning_rate=0.0005\n",
        "number_splits=5\n",
        "weights=torch.tensor([0.2, 0.8], dtype=torch.float32)\n"
      ],
      "metadata": {
        "id": "78za6AwxzkWk"
      },
      "execution_count": 105,
      "outputs": []
    },
    {
      "cell_type": "code",
      "source": [
        "skf = StratifiedKFold(n_splits=number_splits, shuffle=True, random_state=42)\n",
        "\n",
        "all_val_losses = []\n",
        "\n",
        "fold=0\n",
        "\n",
        "train_index, test_index = next(skf.split(features, labels))\n",
        "\n",
        "train_features, test_features = features[train_index], features[test_index]\n",
        "train_labels, test_labels = labels[train_index], labels[test_index]\n",
        "\n",
        "train_dataset = TensorDataset(torch.tensor(train_features, dtype=torch.float32),\n",
        "                              torch.tensor(train_labels, dtype=torch.long))\n",
        "test_dataset = TensorDataset(torch.tensor(test_features, dtype=torch.float32),\n",
        "                              torch.tensor(test_labels, dtype=torch.long))\n",
        "\n",
        "train_loader = DataLoader(train_dataset, batch_size=batch_size, shuffle=True)\n",
        "test_loader = DataLoader(test_dataset, batch_size=batch_size, shuffle=False)\n",
        "\n",
        "optimizer = optim.Adam(model1.parameters(), lr=learning_rate)\n",
        "\n",
        "val_losses = []\n",
        "accuracies_1=[]\n",
        "accuracies_0=[]\n",
        "\n",
        "for epoch in range(num_epochs):\n",
        "    model.train()\n",
        "    for batch_features, batch_labels in train_loader:\n",
        "      optimizer.zero_grad()\n",
        "      outputs = model(batch_features)\n",
        "      loss = nn.functional.cross_entropy(outputs, batch_labels, weight=weights)\n",
        "      loss.backward()\n",
        "      optimizer.step()\n",
        "\n",
        "    model.eval()\n",
        "    val_loss = 0.0\n",
        "    correct = 0\n",
        "    total = 0\n",
        "    total1 = 0\n",
        "    total0 = 0\n",
        "    correct1 = 0\n",
        "    correct0 = 0\n",
        "\n",
        "    with torch.no_grad():\n",
        "      for batch_features, batch_labels in test_loader:\n",
        "        outputs = model(batch_features)\n",
        "        loss = nn.functional.cross_entropy(outputs, batch_labels, weight=weights)\n",
        "        val_loss += loss.item()\n",
        "        _, predicted = torch.max(outputs.data, 1)\n",
        "        total += batch_labels.size(0)\n",
        "        total1 += torch.sum(batch_labels == 1).item()\n",
        "        total0 += torch.sum(batch_labels == 0).item()\n",
        "        correct += (predicted == batch_labels).sum().item()\n",
        "\n",
        "        correct0  += (batch_labels[predicted == batch_labels]==0).sum().item()\n",
        "        correct1  += (batch_labels[predicted == batch_labels]==1).sum().item()\n",
        "\n",
        "\n",
        "    accuracy = correct / total\n",
        "    accuracy1 = correct1 / total1\n",
        "    accuracy0 = correct0 / total0\n",
        "    val_losses.append(val_loss / len(test_loader))\n",
        "    accuracies_1.append(accuracy1)\n",
        "    accuracies_0.append(accuracy0)\n",
        "\n",
        "    print(f'Fold {fold + 1}, Epoch [{epoch + 1}/{num_epochs}], Test Loss: {val_losses[-1]}, Test Accuracy: {accuracy}, Test accuracy on 1=sick: {accuracy1}, Test accuracy on 0: {accuracy0}')\n",
        "\n",
        "\n"
      ],
      "metadata": {
        "colab": {
          "base_uri": "https://localhost:8080/"
        },
        "id": "CY6Nzy-3ys4C",
        "outputId": "b0537ccd-86b8-4c31-8fd5-689995162156"
      },
      "execution_count": 106,
      "outputs": [
        {
          "output_type": "stream",
          "name": "stdout",
          "text": [
            "Fold 1, Epoch [1/50], Test Loss: 0.8375037908554077, Test Accuracy: 0.6, Test accuracy on 1=sick: 0.5, Test accuracy on 0: 0.625\n",
            "Fold 1, Epoch [2/50], Test Loss: 0.8548016548156738, Test Accuracy: 0.6, Test accuracy on 1=sick: 0.25, Test accuracy on 0: 0.6875\n",
            "Fold 1, Epoch [3/50], Test Loss: 0.7556112408638, Test Accuracy: 0.7, Test accuracy on 1=sick: 0.5, Test accuracy on 0: 0.75\n",
            "Fold 1, Epoch [4/50], Test Loss: 0.7878825068473816, Test Accuracy: 0.75, Test accuracy on 1=sick: 0.5, Test accuracy on 0: 0.8125\n",
            "Fold 1, Epoch [5/50], Test Loss: 1.0118687152862549, Test Accuracy: 0.7, Test accuracy on 1=sick: 0.25, Test accuracy on 0: 0.8125\n",
            "Fold 1, Epoch [6/50], Test Loss: 0.9976857304573059, Test Accuracy: 0.65, Test accuracy on 1=sick: 0.25, Test accuracy on 0: 0.75\n",
            "Fold 1, Epoch [7/50], Test Loss: 0.7385992407798767, Test Accuracy: 0.8, Test accuracy on 1=sick: 0.5, Test accuracy on 0: 0.875\n",
            "Fold 1, Epoch [8/50], Test Loss: 0.7359012365341187, Test Accuracy: 0.75, Test accuracy on 1=sick: 0.5, Test accuracy on 0: 0.8125\n",
            "Fold 1, Epoch [9/50], Test Loss: 0.6974160671234131, Test Accuracy: 0.6, Test accuracy on 1=sick: 0.5, Test accuracy on 0: 0.625\n",
            "Fold 1, Epoch [10/50], Test Loss: 0.7352030277252197, Test Accuracy: 0.65, Test accuracy on 1=sick: 0.5, Test accuracy on 0: 0.6875\n",
            "Fold 1, Epoch [11/50], Test Loss: 0.7882773280143738, Test Accuracy: 0.75, Test accuracy on 1=sick: 0.25, Test accuracy on 0: 0.875\n",
            "Fold 1, Epoch [12/50], Test Loss: 0.80836021900177, Test Accuracy: 0.75, Test accuracy on 1=sick: 0.5, Test accuracy on 0: 0.8125\n",
            "Fold 1, Epoch [13/50], Test Loss: 0.8475431799888611, Test Accuracy: 0.75, Test accuracy on 1=sick: 0.5, Test accuracy on 0: 0.8125\n",
            "Fold 1, Epoch [14/50], Test Loss: 0.8945415616035461, Test Accuracy: 0.75, Test accuracy on 1=sick: 0.5, Test accuracy on 0: 0.8125\n",
            "Fold 1, Epoch [15/50], Test Loss: 1.0243126153945923, Test Accuracy: 0.7, Test accuracy on 1=sick: 0.0, Test accuracy on 0: 0.875\n",
            "Fold 1, Epoch [16/50], Test Loss: 1.0724492073059082, Test Accuracy: 0.7, Test accuracy on 1=sick: 0.25, Test accuracy on 0: 0.8125\n",
            "Fold 1, Epoch [17/50], Test Loss: 1.0643903017044067, Test Accuracy: 0.65, Test accuracy on 1=sick: 0.25, Test accuracy on 0: 0.75\n",
            "Fold 1, Epoch [18/50], Test Loss: 0.9759483933448792, Test Accuracy: 0.7, Test accuracy on 1=sick: 0.25, Test accuracy on 0: 0.8125\n",
            "Fold 1, Epoch [19/50], Test Loss: 0.9679497480392456, Test Accuracy: 0.75, Test accuracy on 1=sick: 0.5, Test accuracy on 0: 0.8125\n",
            "Fold 1, Epoch [20/50], Test Loss: 1.0267504453659058, Test Accuracy: 0.65, Test accuracy on 1=sick: 0.0, Test accuracy on 0: 0.8125\n",
            "Fold 1, Epoch [21/50], Test Loss: 1.032201886177063, Test Accuracy: 0.65, Test accuracy on 1=sick: 0.25, Test accuracy on 0: 0.75\n",
            "Fold 1, Epoch [22/50], Test Loss: 1.0576223134994507, Test Accuracy: 0.55, Test accuracy on 1=sick: 0.25, Test accuracy on 0: 0.625\n",
            "Fold 1, Epoch [23/50], Test Loss: 1.0768316984176636, Test Accuracy: 0.6, Test accuracy on 1=sick: 0.25, Test accuracy on 0: 0.6875\n",
            "Fold 1, Epoch [24/50], Test Loss: 1.0692445039749146, Test Accuracy: 0.6, Test accuracy on 1=sick: 0.25, Test accuracy on 0: 0.6875\n",
            "Fold 1, Epoch [25/50], Test Loss: 0.9352477788925171, Test Accuracy: 0.6, Test accuracy on 1=sick: 0.25, Test accuracy on 0: 0.6875\n",
            "Fold 1, Epoch [26/50], Test Loss: 0.8918070793151855, Test Accuracy: 0.6, Test accuracy on 1=sick: 0.25, Test accuracy on 0: 0.6875\n",
            "Fold 1, Epoch [27/50], Test Loss: 0.9118282794952393, Test Accuracy: 0.6, Test accuracy on 1=sick: 0.5, Test accuracy on 0: 0.625\n",
            "Fold 1, Epoch [28/50], Test Loss: 0.9529085159301758, Test Accuracy: 0.6, Test accuracy on 1=sick: 0.5, Test accuracy on 0: 0.625\n",
            "Fold 1, Epoch [29/50], Test Loss: 0.9664707779884338, Test Accuracy: 0.65, Test accuracy on 1=sick: 0.5, Test accuracy on 0: 0.6875\n",
            "Fold 1, Epoch [30/50], Test Loss: 0.9377643465995789, Test Accuracy: 0.6, Test accuracy on 1=sick: 0.5, Test accuracy on 0: 0.625\n",
            "Fold 1, Epoch [31/50], Test Loss: 0.95160311460495, Test Accuracy: 0.65, Test accuracy on 1=sick: 0.5, Test accuracy on 0: 0.6875\n",
            "Fold 1, Epoch [32/50], Test Loss: 0.997437596321106, Test Accuracy: 0.6, Test accuracy on 1=sick: 0.5, Test accuracy on 0: 0.625\n",
            "Fold 1, Epoch [33/50], Test Loss: 1.013156771659851, Test Accuracy: 0.6, Test accuracy on 1=sick: 0.5, Test accuracy on 0: 0.625\n",
            "Fold 1, Epoch [34/50], Test Loss: 1.0731616020202637, Test Accuracy: 0.7, Test accuracy on 1=sick: 0.5, Test accuracy on 0: 0.75\n",
            "Fold 1, Epoch [35/50], Test Loss: 1.099880337715149, Test Accuracy: 0.65, Test accuracy on 1=sick: 0.25, Test accuracy on 0: 0.75\n",
            "Fold 1, Epoch [36/50], Test Loss: 1.089913010597229, Test Accuracy: 0.6, Test accuracy on 1=sick: 0.25, Test accuracy on 0: 0.6875\n",
            "Fold 1, Epoch [37/50], Test Loss: 1.0510231256484985, Test Accuracy: 0.6, Test accuracy on 1=sick: 0.25, Test accuracy on 0: 0.6875\n",
            "Fold 1, Epoch [38/50], Test Loss: 1.0422788858413696, Test Accuracy: 0.6, Test accuracy on 1=sick: 0.5, Test accuracy on 0: 0.625\n",
            "Fold 1, Epoch [39/50], Test Loss: 1.018988013267517, Test Accuracy: 0.6, Test accuracy on 1=sick: 0.5, Test accuracy on 0: 0.625\n",
            "Fold 1, Epoch [40/50], Test Loss: 1.0536818504333496, Test Accuracy: 0.65, Test accuracy on 1=sick: 0.5, Test accuracy on 0: 0.6875\n",
            "Fold 1, Epoch [41/50], Test Loss: 1.1825453042984009, Test Accuracy: 0.65, Test accuracy on 1=sick: 0.5, Test accuracy on 0: 0.6875\n",
            "Fold 1, Epoch [42/50], Test Loss: 1.2553000450134277, Test Accuracy: 0.65, Test accuracy on 1=sick: 0.5, Test accuracy on 0: 0.6875\n",
            "Fold 1, Epoch [43/50], Test Loss: 1.3002687692642212, Test Accuracy: 0.6, Test accuracy on 1=sick: 0.25, Test accuracy on 0: 0.6875\n",
            "Fold 1, Epoch [44/50], Test Loss: 1.2769782543182373, Test Accuracy: 0.65, Test accuracy on 1=sick: 0.25, Test accuracy on 0: 0.75\n",
            "Fold 1, Epoch [45/50], Test Loss: 1.2350537776947021, Test Accuracy: 0.65, Test accuracy on 1=sick: 0.25, Test accuracy on 0: 0.75\n",
            "Fold 1, Epoch [46/50], Test Loss: 1.222615361213684, Test Accuracy: 0.7, Test accuracy on 1=sick: 0.5, Test accuracy on 0: 0.75\n",
            "Fold 1, Epoch [47/50], Test Loss: 1.1929763555526733, Test Accuracy: 0.65, Test accuracy on 1=sick: 0.5, Test accuracy on 0: 0.6875\n",
            "Fold 1, Epoch [48/50], Test Loss: 1.1463751792907715, Test Accuracy: 0.65, Test accuracy on 1=sick: 0.5, Test accuracy on 0: 0.6875\n",
            "Fold 1, Epoch [49/50], Test Loss: 1.1867401599884033, Test Accuracy: 0.65, Test accuracy on 1=sick: 0.5, Test accuracy on 0: 0.6875\n",
            "Fold 1, Epoch [50/50], Test Loss: 1.2367197275161743, Test Accuracy: 0.7, Test accuracy on 1=sick: 0.5, Test accuracy on 0: 0.75\n"
          ]
        }
      ]
    },
    {
      "cell_type": "markdown",
      "source": [
        "## Hyperparameters search (Careful! Not using weighted cross entropy loss yet!)"
      ],
      "metadata": {
        "id": "NDgEs90IwjNP"
      }
    },
    {
      "cell_type": "code",
      "source": [
        "# Define hyperparameter search space\n",
        "hidden_size_options = [[64], [128], [64, 32], [128, 64], [128,64,32], [64,32,16]]\n",
        "\n",
        "\n",
        "best_model = hyperparameter_search(features, labels, hidden_size_options)\n"
      ],
      "metadata": {
        "id": "TblnJdt8vCnV",
        "colab": {
          "base_uri": "https://localhost:8080/"
        },
        "outputId": "f6380cdb-82f8-472b-b287-ccc8960070dd"
      },
      "execution_count": 84,
      "outputs": [
        {
          "output_type": "stream",
          "name": "stdout",
          "text": [
            "\n",
            "Hidden Size: [64], Num Layers: 1\n",
            "Fold 1, Epoch [1/10], Test Loss: 0.9525598287582397, Test Accuracy: 0.75\n",
            "Fold 1, Epoch [2/10], Test Loss: 1.4524471759796143, Test Accuracy: 0.65\n",
            "Fold 1, Epoch [3/10], Test Loss: 2.043156862258911, Test Accuracy: 0.65\n",
            "Fold 1, Epoch [4/10], Test Loss: 1.8187230825424194, Test Accuracy: 0.65\n",
            "Fold 1, Epoch [5/10], Test Loss: 1.0540103912353516, Test Accuracy: 0.7\n",
            "Fold 1, Epoch [6/10], Test Loss: 0.8914045095443726, Test Accuracy: 0.75\n",
            "Fold 1, Epoch [7/10], Test Loss: 0.9733399152755737, Test Accuracy: 0.75\n",
            "Fold 1, Epoch [8/10], Test Loss: 0.9803611040115356, Test Accuracy: 0.7\n",
            "Fold 1, Epoch [9/10], Test Loss: 1.1543691158294678, Test Accuracy: 0.7\n",
            "Fold 1, Epoch [10/10], Test Loss: 1.109277606010437, Test Accuracy: 0.75\n",
            "Fold 2, Epoch [1/10], Test Loss: 0.9855219125747681, Test Accuracy: 0.75\n",
            "Fold 2, Epoch [2/10], Test Loss: 0.9539388418197632, Test Accuracy: 0.8\n",
            "Fold 2, Epoch [3/10], Test Loss: 1.0097142457962036, Test Accuracy: 0.7\n",
            "Fold 2, Epoch [4/10], Test Loss: 0.9523763656616211, Test Accuracy: 0.65\n",
            "Fold 2, Epoch [5/10], Test Loss: 0.6932709217071533, Test Accuracy: 0.65\n",
            "Fold 2, Epoch [6/10], Test Loss: 0.8192660212516785, Test Accuracy: 0.8\n",
            "Fold 2, Epoch [7/10], Test Loss: 1.1733238697052002, Test Accuracy: 0.75\n",
            "Fold 2, Epoch [8/10], Test Loss: 0.8931120038032532, Test Accuracy: 0.8\n",
            "Fold 2, Epoch [9/10], Test Loss: 0.9195717573165894, Test Accuracy: 0.8\n",
            "Fold 2, Epoch [10/10], Test Loss: 1.0850565433502197, Test Accuracy: 0.75\n",
            "Fold 3, Epoch [1/10], Test Loss: 0.5521513223648071, Test Accuracy: 0.85\n",
            "Fold 3, Epoch [2/10], Test Loss: 0.43314266204833984, Test Accuracy: 0.8\n",
            "Fold 3, Epoch [3/10], Test Loss: 1.1052480936050415, Test Accuracy: 0.9\n",
            "Fold 3, Epoch [4/10], Test Loss: 1.2218595743179321, Test Accuracy: 0.9\n",
            "Fold 3, Epoch [5/10], Test Loss: 0.9604331851005554, Test Accuracy: 0.75\n",
            "Fold 3, Epoch [6/10], Test Loss: 1.4329513311386108, Test Accuracy: 0.7\n",
            "Fold 3, Epoch [7/10], Test Loss: 1.6295467615127563, Test Accuracy: 0.8\n",
            "Fold 3, Epoch [8/10], Test Loss: 1.9455276727676392, Test Accuracy: 0.85\n",
            "Fold 3, Epoch [9/10], Test Loss: 2.1866917610168457, Test Accuracy: 0.85\n",
            "Fold 3, Epoch [10/10], Test Loss: 1.978797197341919, Test Accuracy: 0.8\n",
            "Fold 4, Epoch [1/10], Test Loss: 0.4465222656726837, Test Accuracy: 0.8421052631578947\n",
            "Fold 4, Epoch [2/10], Test Loss: 0.5080248713493347, Test Accuracy: 0.8421052631578947\n",
            "Fold 4, Epoch [3/10], Test Loss: 0.587024986743927, Test Accuracy: 0.7894736842105263\n",
            "Fold 4, Epoch [4/10], Test Loss: 1.3922466039657593, Test Accuracy: 0.7368421052631579\n",
            "Fold 4, Epoch [5/10], Test Loss: 0.8615710735321045, Test Accuracy: 0.8421052631578947\n",
            "Fold 4, Epoch [6/10], Test Loss: 0.4631167948246002, Test Accuracy: 0.8947368421052632\n",
            "Fold 4, Epoch [7/10], Test Loss: 0.6686870455741882, Test Accuracy: 0.7894736842105263\n",
            "Fold 4, Epoch [8/10], Test Loss: 1.4132634401321411, Test Accuracy: 0.7368421052631579\n",
            "Fold 4, Epoch [9/10], Test Loss: 1.250948429107666, Test Accuracy: 0.7368421052631579\n",
            "Fold 4, Epoch [10/10], Test Loss: 0.7824693322181702, Test Accuracy: 0.7894736842105263\n",
            "Fold 5, Epoch [1/10], Test Loss: 1.691938877105713, Test Accuracy: 0.9473684210526315\n",
            "Fold 5, Epoch [2/10], Test Loss: 1.1245654821395874, Test Accuracy: 0.8947368421052632\n",
            "Fold 5, Epoch [3/10], Test Loss: 0.24196569621562958, Test Accuracy: 0.9473684210526315\n",
            "Fold 5, Epoch [4/10], Test Loss: 0.2765897214412689, Test Accuracy: 0.8947368421052632\n",
            "Fold 5, Epoch [5/10], Test Loss: 0.5338736772537231, Test Accuracy: 0.8947368421052632\n",
            "Fold 5, Epoch [6/10], Test Loss: 0.6048274040222168, Test Accuracy: 0.8421052631578947\n",
            "Fold 5, Epoch [7/10], Test Loss: 0.8213127255439758, Test Accuracy: 0.7894736842105263\n",
            "Fold 5, Epoch [8/10], Test Loss: 1.277959942817688, Test Accuracy: 0.8421052631578947\n",
            "Fold 5, Epoch [9/10], Test Loss: 1.6299543380737305, Test Accuracy: 0.7894736842105263\n",
            "Fold 5, Epoch [10/10], Test Loss: 1.5586504936218262, Test Accuracy: 0.7894736842105263\n",
            "(1, [64])\n",
            "\n",
            "Hidden Size: [128], Num Layers: 1\n",
            "Fold 1, Epoch [1/10], Test Loss: 2.1670873165130615, Test Accuracy: 0.7\n",
            "Fold 1, Epoch [2/10], Test Loss: 2.391404628753662, Test Accuracy: 0.7\n",
            "Fold 1, Epoch [3/10], Test Loss: 1.284914255142212, Test Accuracy: 0.7\n",
            "Fold 1, Epoch [4/10], Test Loss: 1.0432915687561035, Test Accuracy: 0.65\n",
            "Fold 1, Epoch [5/10], Test Loss: 0.48464661836624146, Test Accuracy: 0.8\n",
            "Fold 1, Epoch [6/10], Test Loss: 0.9842261075973511, Test Accuracy: 0.8\n",
            "Fold 1, Epoch [7/10], Test Loss: 1.2813676595687866, Test Accuracy: 0.8\n",
            "Fold 1, Epoch [8/10], Test Loss: 1.1027655601501465, Test Accuracy: 0.7\n",
            "Fold 1, Epoch [9/10], Test Loss: 1.029327154159546, Test Accuracy: 0.7\n",
            "Fold 1, Epoch [10/10], Test Loss: 1.2845171689987183, Test Accuracy: 0.8\n",
            "Fold 2, Epoch [1/10], Test Loss: 0.7941542863845825, Test Accuracy: 0.8\n",
            "Fold 2, Epoch [2/10], Test Loss: 2.0076329708099365, Test Accuracy: 0.7\n",
            "Fold 2, Epoch [3/10], Test Loss: 2.20876145362854, Test Accuracy: 0.6\n",
            "Fold 2, Epoch [4/10], Test Loss: 1.7578957080841064, Test Accuracy: 0.75\n",
            "Fold 2, Epoch [5/10], Test Loss: 1.6391633749008179, Test Accuracy: 0.8\n",
            "Fold 2, Epoch [6/10], Test Loss: 1.6356151103973389, Test Accuracy: 0.8\n",
            "Fold 2, Epoch [7/10], Test Loss: 1.8490707874298096, Test Accuracy: 0.8\n",
            "Fold 2, Epoch [8/10], Test Loss: 1.969691514968872, Test Accuracy: 0.8\n",
            "Fold 2, Epoch [9/10], Test Loss: 2.1208138465881348, Test Accuracy: 0.75\n",
            "Fold 2, Epoch [10/10], Test Loss: 1.8551708459854126, Test Accuracy: 0.7\n",
            "Fold 3, Epoch [1/10], Test Loss: 1.3797447681427002, Test Accuracy: 0.85\n",
            "Fold 3, Epoch [2/10], Test Loss: 1.7411426305770874, Test Accuracy: 0.9\n",
            "Fold 3, Epoch [3/10], Test Loss: 2.2899022102355957, Test Accuracy: 0.9\n",
            "Fold 3, Epoch [4/10], Test Loss: 2.4011075496673584, Test Accuracy: 0.85\n",
            "Fold 3, Epoch [5/10], Test Loss: 2.8165488243103027, Test Accuracy: 0.7\n",
            "Fold 3, Epoch [6/10], Test Loss: 2.826930284500122, Test Accuracy: 0.65\n",
            "Fold 3, Epoch [7/10], Test Loss: 2.450073003768921, Test Accuracy: 0.75\n",
            "Fold 3, Epoch [8/10], Test Loss: 2.522437810897827, Test Accuracy: 0.8\n",
            "Fold 3, Epoch [9/10], Test Loss: 2.7263128757476807, Test Accuracy: 0.8\n",
            "Fold 3, Epoch [10/10], Test Loss: 2.93328857421875, Test Accuracy: 0.8\n",
            "Fold 4, Epoch [1/10], Test Loss: 1.1458007097244263, Test Accuracy: 0.6842105263157895\n",
            "Fold 4, Epoch [2/10], Test Loss: 1.9984018802642822, Test Accuracy: 0.6842105263157895\n",
            "Fold 4, Epoch [3/10], Test Loss: 1.0353542566299438, Test Accuracy: 0.7368421052631579\n",
            "Fold 4, Epoch [4/10], Test Loss: 0.6182573437690735, Test Accuracy: 0.8421052631578947\n",
            "Fold 4, Epoch [5/10], Test Loss: 0.6062218546867371, Test Accuracy: 0.8421052631578947\n",
            "Fold 4, Epoch [6/10], Test Loss: 0.2576681971549988, Test Accuracy: 0.7894736842105263\n",
            "Fold 4, Epoch [7/10], Test Loss: 0.8869364857673645, Test Accuracy: 0.8421052631578947\n",
            "Fold 4, Epoch [8/10], Test Loss: 1.1757025718688965, Test Accuracy: 0.7368421052631579\n",
            "Fold 4, Epoch [9/10], Test Loss: 0.5556842684745789, Test Accuracy: 0.8421052631578947\n",
            "Fold 4, Epoch [10/10], Test Loss: 0.47292399406433105, Test Accuracy: 0.8947368421052632\n",
            "Fold 5, Epoch [1/10], Test Loss: 0.30420076847076416, Test Accuracy: 0.8947368421052632\n",
            "Fold 5, Epoch [2/10], Test Loss: 0.7576310038566589, Test Accuracy: 0.8947368421052632\n",
            "Fold 5, Epoch [3/10], Test Loss: 1.025967001914978, Test Accuracy: 0.8947368421052632\n",
            "Fold 5, Epoch [4/10], Test Loss: 0.8709191679954529, Test Accuracy: 0.8421052631578947\n",
            "Fold 5, Epoch [5/10], Test Loss: 1.7721891403198242, Test Accuracy: 0.8421052631578947\n",
            "Fold 5, Epoch [6/10], Test Loss: 2.276435136795044, Test Accuracy: 0.8421052631578947\n",
            "Fold 5, Epoch [7/10], Test Loss: 2.4826669692993164, Test Accuracy: 0.8421052631578947\n",
            "Fold 5, Epoch [8/10], Test Loss: 2.484265089035034, Test Accuracy: 0.8421052631578947\n",
            "Fold 5, Epoch [9/10], Test Loss: 2.700735092163086, Test Accuracy: 0.8947368421052632\n",
            "Fold 5, Epoch [10/10], Test Loss: 3.104729652404785, Test Accuracy: 0.8947368421052632\n",
            "(1, [128])\n",
            "\n",
            "Hidden Size: [64, 32], Num Layers: 2\n",
            "Fold 1, Epoch [1/10], Test Loss: 0.8202155232429504, Test Accuracy: 0.75\n",
            "Fold 1, Epoch [2/10], Test Loss: 0.9297447204589844, Test Accuracy: 0.8\n",
            "Fold 1, Epoch [3/10], Test Loss: 0.7478466033935547, Test Accuracy: 0.8\n",
            "Fold 1, Epoch [4/10], Test Loss: 0.6124090552330017, Test Accuracy: 0.8\n",
            "Fold 1, Epoch [5/10], Test Loss: 0.7275804877281189, Test Accuracy: 0.75\n",
            "Fold 1, Epoch [6/10], Test Loss: 0.8293229937553406, Test Accuracy: 0.8\n",
            "Fold 1, Epoch [7/10], Test Loss: 0.7710595726966858, Test Accuracy: 0.75\n",
            "Fold 1, Epoch [8/10], Test Loss: 0.6627928614616394, Test Accuracy: 0.8\n",
            "Fold 1, Epoch [9/10], Test Loss: 0.6204021573066711, Test Accuracy: 0.85\n",
            "Fold 1, Epoch [10/10], Test Loss: 0.6060020923614502, Test Accuracy: 0.8\n",
            "Fold 2, Epoch [1/10], Test Loss: 0.16308975219726562, Test Accuracy: 0.95\n",
            "Fold 2, Epoch [2/10], Test Loss: 0.21656754612922668, Test Accuracy: 0.9\n",
            "Fold 2, Epoch [3/10], Test Loss: 0.5269197225570679, Test Accuracy: 0.85\n",
            "Fold 2, Epoch [4/10], Test Loss: 0.6979380249977112, Test Accuracy: 0.8\n",
            "Fold 2, Epoch [5/10], Test Loss: 0.6614545583724976, Test Accuracy: 0.75\n",
            "Fold 2, Epoch [6/10], Test Loss: 0.49228253960609436, Test Accuracy: 0.85\n",
            "Fold 2, Epoch [7/10], Test Loss: 0.4333276152610779, Test Accuracy: 0.85\n",
            "Fold 2, Epoch [8/10], Test Loss: 0.5228542685508728, Test Accuracy: 0.85\n",
            "Fold 2, Epoch [9/10], Test Loss: 0.6215096712112427, Test Accuracy: 0.8\n",
            "Fold 2, Epoch [10/10], Test Loss: 0.727622926235199, Test Accuracy: 0.75\n",
            "Fold 3, Epoch [1/10], Test Loss: 0.26444974541664124, Test Accuracy: 0.85\n",
            "Fold 3, Epoch [2/10], Test Loss: 0.34124448895454407, Test Accuracy: 0.85\n",
            "Fold 3, Epoch [3/10], Test Loss: 0.3959703743457794, Test Accuracy: 0.9\n",
            "Fold 3, Epoch [4/10], Test Loss: 0.607379138469696, Test Accuracy: 0.8\n",
            "Fold 3, Epoch [5/10], Test Loss: 0.7909910678863525, Test Accuracy: 0.7\n",
            "Fold 3, Epoch [6/10], Test Loss: 0.7696284055709839, Test Accuracy: 0.7\n",
            "Fold 3, Epoch [7/10], Test Loss: 0.7846400141716003, Test Accuracy: 0.75\n",
            "Fold 3, Epoch [8/10], Test Loss: 0.8808857798576355, Test Accuracy: 0.8\n",
            "Fold 3, Epoch [9/10], Test Loss: 1.0068442821502686, Test Accuracy: 0.75\n",
            "Fold 3, Epoch [10/10], Test Loss: 1.1495177745819092, Test Accuracy: 0.7\n",
            "Fold 4, Epoch [1/10], Test Loss: 0.2178594470024109, Test Accuracy: 0.8947368421052632\n",
            "Fold 4, Epoch [2/10], Test Loss: 0.2194746881723404, Test Accuracy: 0.9473684210526315\n",
            "Fold 4, Epoch [3/10], Test Loss: 0.13597388565540314, Test Accuracy: 0.8947368421052632\n",
            "Fold 4, Epoch [4/10], Test Loss: 0.06932828575372696, Test Accuracy: 1.0\n",
            "Fold 4, Epoch [5/10], Test Loss: 0.06884326040744781, Test Accuracy: 1.0\n",
            "Fold 4, Epoch [6/10], Test Loss: 0.16010431945323944, Test Accuracy: 0.8947368421052632\n",
            "Fold 4, Epoch [7/10], Test Loss: 0.2675856649875641, Test Accuracy: 0.8947368421052632\n",
            "Fold 4, Epoch [8/10], Test Loss: 0.36771437525749207, Test Accuracy: 0.8421052631578947\n",
            "Fold 4, Epoch [9/10], Test Loss: 0.3908660411834717, Test Accuracy: 0.8421052631578947\n",
            "Fold 4, Epoch [10/10], Test Loss: 0.32916566729545593, Test Accuracy: 0.8421052631578947\n",
            "Fold 5, Epoch [1/10], Test Loss: 0.6019086837768555, Test Accuracy: 0.8947368421052632\n",
            "Fold 5, Epoch [2/10], Test Loss: 0.11498995870351791, Test Accuracy: 0.9473684210526315\n",
            "Fold 5, Epoch [3/10], Test Loss: 0.006070454139262438, Test Accuracy: 1.0\n",
            "Fold 5, Epoch [4/10], Test Loss: 0.008891766890883446, Test Accuracy: 1.0\n",
            "Fold 5, Epoch [5/10], Test Loss: 0.07030078023672104, Test Accuracy: 0.9473684210526315\n",
            "Fold 5, Epoch [6/10], Test Loss: 0.23720553517341614, Test Accuracy: 0.8947368421052632\n",
            "Fold 5, Epoch [7/10], Test Loss: 0.3389391601085663, Test Accuracy: 0.8947368421052632\n",
            "Fold 5, Epoch [8/10], Test Loss: 0.2548913061618805, Test Accuracy: 0.9473684210526315\n",
            "Fold 5, Epoch [9/10], Test Loss: 0.24121595919132233, Test Accuracy: 0.9473684210526315\n",
            "Fold 5, Epoch [10/10], Test Loss: 0.23989908397197723, Test Accuracy: 0.9473684210526315\n",
            "(2, [64, 32])\n",
            "\n",
            "Hidden Size: [128, 64], Num Layers: 2\n",
            "Fold 1, Epoch [1/10], Test Loss: 0.6763450503349304, Test Accuracy: 0.75\n",
            "Fold 1, Epoch [2/10], Test Loss: 0.8268864750862122, Test Accuracy: 0.7\n",
            "Fold 1, Epoch [3/10], Test Loss: 0.9061538577079773, Test Accuracy: 0.75\n",
            "Fold 1, Epoch [4/10], Test Loss: 0.6453596353530884, Test Accuracy: 0.8\n",
            "Fold 1, Epoch [5/10], Test Loss: 0.4908662736415863, Test Accuracy: 0.8\n",
            "Fold 1, Epoch [6/10], Test Loss: 0.49588221311569214, Test Accuracy: 0.75\n",
            "Fold 1, Epoch [7/10], Test Loss: 0.5164753794670105, Test Accuracy: 0.75\n",
            "Fold 1, Epoch [8/10], Test Loss: 0.6020058393478394, Test Accuracy: 0.7\n",
            "Fold 1, Epoch [9/10], Test Loss: 0.5716128945350647, Test Accuracy: 0.75\n",
            "Fold 1, Epoch [10/10], Test Loss: 0.5259775519371033, Test Accuracy: 0.7\n",
            "Fold 2, Epoch [1/10], Test Loss: 0.3569222390651703, Test Accuracy: 0.9\n",
            "Fold 2, Epoch [2/10], Test Loss: 0.4536888003349304, Test Accuracy: 0.75\n",
            "Fold 2, Epoch [3/10], Test Loss: 0.43715277314186096, Test Accuracy: 0.85\n",
            "Fold 2, Epoch [4/10], Test Loss: 0.5438176393508911, Test Accuracy: 0.9\n",
            "Fold 2, Epoch [5/10], Test Loss: 0.538578987121582, Test Accuracy: 0.9\n",
            "Fold 2, Epoch [6/10], Test Loss: 0.5636862516403198, Test Accuracy: 0.9\n",
            "Fold 2, Epoch [7/10], Test Loss: 0.6185168027877808, Test Accuracy: 0.8\n",
            "Fold 2, Epoch [8/10], Test Loss: 0.546424150466919, Test Accuracy: 0.8\n",
            "Fold 2, Epoch [9/10], Test Loss: 0.49222034215927124, Test Accuracy: 0.8\n",
            "Fold 2, Epoch [10/10], Test Loss: 0.47065702080726624, Test Accuracy: 0.8\n",
            "Fold 3, Epoch [1/10], Test Loss: 0.41818150877952576, Test Accuracy: 0.8\n",
            "Fold 3, Epoch [2/10], Test Loss: 0.6781229376792908, Test Accuracy: 0.85\n",
            "Fold 3, Epoch [3/10], Test Loss: 1.0521957874298096, Test Accuracy: 0.8\n",
            "Fold 3, Epoch [4/10], Test Loss: 0.9854143261909485, Test Accuracy: 0.9\n",
            "Fold 3, Epoch [5/10], Test Loss: 1.1857482194900513, Test Accuracy: 0.8\n",
            "Fold 3, Epoch [6/10], Test Loss: 1.4552056789398193, Test Accuracy: 0.75\n",
            "Fold 3, Epoch [7/10], Test Loss: 1.467841386795044, Test Accuracy: 0.8\n",
            "Fold 3, Epoch [8/10], Test Loss: 1.5098339319229126, Test Accuracy: 0.8\n",
            "Fold 3, Epoch [9/10], Test Loss: 1.5274364948272705, Test Accuracy: 0.8\n",
            "Fold 3, Epoch [10/10], Test Loss: 1.552271842956543, Test Accuracy: 0.85\n",
            "Fold 4, Epoch [1/10], Test Loss: 0.2347915768623352, Test Accuracy: 0.9473684210526315\n",
            "Fold 4, Epoch [2/10], Test Loss: 0.23130688071250916, Test Accuracy: 0.9473684210526315\n",
            "Fold 4, Epoch [3/10], Test Loss: 0.27205291390419006, Test Accuracy: 0.8947368421052632\n",
            "Fold 4, Epoch [4/10], Test Loss: 0.09050137549638748, Test Accuracy: 0.9473684210526315\n",
            "Fold 4, Epoch [5/10], Test Loss: 0.11703289300203323, Test Accuracy: 0.8947368421052632\n",
            "Fold 4, Epoch [6/10], Test Loss: 0.19394822418689728, Test Accuracy: 0.8947368421052632\n",
            "Fold 4, Epoch [7/10], Test Loss: 0.299508661031723, Test Accuracy: 0.8421052631578947\n",
            "Fold 4, Epoch [8/10], Test Loss: 0.3269648551940918, Test Accuracy: 0.8421052631578947\n",
            "Fold 4, Epoch [9/10], Test Loss: 0.2550234794616699, Test Accuracy: 0.8421052631578947\n",
            "Fold 4, Epoch [10/10], Test Loss: 0.18861019611358643, Test Accuracy: 0.8947368421052632\n",
            "Fold 5, Epoch [1/10], Test Loss: 0.7297638654708862, Test Accuracy: 0.8947368421052632\n",
            "Fold 5, Epoch [2/10], Test Loss: 1.089931845664978, Test Accuracy: 0.8947368421052632\n",
            "Fold 5, Epoch [3/10], Test Loss: 1.2547025680541992, Test Accuracy: 0.8421052631578947\n",
            "Fold 5, Epoch [4/10], Test Loss: 1.3539624214172363, Test Accuracy: 0.8421052631578947\n",
            "Fold 5, Epoch [5/10], Test Loss: 1.4178152084350586, Test Accuracy: 0.8421052631578947\n",
            "Fold 5, Epoch [6/10], Test Loss: 1.570984959602356, Test Accuracy: 0.8421052631578947\n",
            "Fold 5, Epoch [7/10], Test Loss: 1.7842621803283691, Test Accuracy: 0.8421052631578947\n",
            "Fold 5, Epoch [8/10], Test Loss: 1.886244773864746, Test Accuracy: 0.8421052631578947\n",
            "Fold 5, Epoch [9/10], Test Loss: 1.9903453588485718, Test Accuracy: 0.8421052631578947\n",
            "Fold 5, Epoch [10/10], Test Loss: 2.056427478790283, Test Accuracy: 0.8421052631578947\n",
            "(2, [128, 64])\n",
            "\n",
            "Hidden Size: [128, 64, 32], Num Layers: 3\n",
            "Fold 1, Epoch [1/10], Test Loss: 0.6009949445724487, Test Accuracy: 0.8\n",
            "Fold 1, Epoch [2/10], Test Loss: 0.5841222405433655, Test Accuracy: 0.8\n",
            "Fold 1, Epoch [3/10], Test Loss: 0.5194464325904846, Test Accuracy: 0.8\n",
            "Fold 1, Epoch [4/10], Test Loss: 0.5192278623580933, Test Accuracy: 0.9\n",
            "Fold 1, Epoch [5/10], Test Loss: 0.47161421179771423, Test Accuracy: 0.85\n",
            "Fold 1, Epoch [6/10], Test Loss: 0.43729400634765625, Test Accuracy: 0.85\n",
            "Fold 1, Epoch [7/10], Test Loss: 0.43507370352745056, Test Accuracy: 0.8\n",
            "Fold 1, Epoch [8/10], Test Loss: 0.4902530312538147, Test Accuracy: 0.8\n",
            "Fold 1, Epoch [9/10], Test Loss: 0.559040904045105, Test Accuracy: 0.8\n",
            "Fold 1, Epoch [10/10], Test Loss: 0.5813109874725342, Test Accuracy: 0.8\n",
            "Fold 2, Epoch [1/10], Test Loss: 0.5949575901031494, Test Accuracy: 0.8\n",
            "Fold 2, Epoch [2/10], Test Loss: 0.3721589148044586, Test Accuracy: 0.85\n",
            "Fold 2, Epoch [3/10], Test Loss: 0.23463015258312225, Test Accuracy: 0.85\n",
            "Fold 2, Epoch [4/10], Test Loss: 0.26050084829330444, Test Accuracy: 0.85\n",
            "Fold 2, Epoch [5/10], Test Loss: 0.5021433234214783, Test Accuracy: 0.75\n",
            "Fold 2, Epoch [6/10], Test Loss: 0.4781607985496521, Test Accuracy: 0.85\n",
            "Fold 2, Epoch [7/10], Test Loss: 0.47537511587142944, Test Accuracy: 0.8\n",
            "Fold 2, Epoch [8/10], Test Loss: 0.44635385274887085, Test Accuracy: 0.8\n",
            "Fold 2, Epoch [9/10], Test Loss: 0.5031406283378601, Test Accuracy: 0.75\n",
            "Fold 2, Epoch [10/10], Test Loss: 0.45328831672668457, Test Accuracy: 0.8\n",
            "Fold 3, Epoch [1/10], Test Loss: 0.3091011345386505, Test Accuracy: 0.9\n",
            "Fold 3, Epoch [2/10], Test Loss: 0.2883557677268982, Test Accuracy: 0.9\n",
            "Fold 3, Epoch [3/10], Test Loss: 0.5222681760787964, Test Accuracy: 0.9\n",
            "Fold 3, Epoch [4/10], Test Loss: 0.587905764579773, Test Accuracy: 0.9\n",
            "Fold 3, Epoch [5/10], Test Loss: 0.8464158177375793, Test Accuracy: 0.7\n",
            "Fold 3, Epoch [6/10], Test Loss: 0.8594263195991516, Test Accuracy: 0.75\n",
            "Fold 3, Epoch [7/10], Test Loss: 0.9399853944778442, Test Accuracy: 0.8\n",
            "Fold 3, Epoch [8/10], Test Loss: 1.0802521705627441, Test Accuracy: 0.8\n",
            "Fold 3, Epoch [9/10], Test Loss: 1.1347835063934326, Test Accuracy: 0.8\n",
            "Fold 3, Epoch [10/10], Test Loss: 1.1615424156188965, Test Accuracy: 0.7\n",
            "Fold 4, Epoch [1/10], Test Loss: 0.2151298224925995, Test Accuracy: 0.8947368421052632\n",
            "Fold 4, Epoch [2/10], Test Loss: 0.1659056544303894, Test Accuracy: 0.8947368421052632\n",
            "Fold 4, Epoch [3/10], Test Loss: 0.12892583012580872, Test Accuracy: 0.8947368421052632\n",
            "Fold 4, Epoch [4/10], Test Loss: 0.258269339799881, Test Accuracy: 0.8947368421052632\n",
            "Fold 4, Epoch [5/10], Test Loss: 0.2783850431442261, Test Accuracy: 0.8947368421052632\n",
            "Fold 4, Epoch [6/10], Test Loss: 0.1391361951828003, Test Accuracy: 0.8947368421052632\n",
            "Fold 4, Epoch [7/10], Test Loss: 0.21892984211444855, Test Accuracy: 0.8947368421052632\n",
            "Fold 4, Epoch [8/10], Test Loss: 0.373686283826828, Test Accuracy: 0.8947368421052632\n",
            "Fold 4, Epoch [9/10], Test Loss: 0.4329184591770172, Test Accuracy: 0.8421052631578947\n",
            "Fold 4, Epoch [10/10], Test Loss: 0.31576937437057495, Test Accuracy: 0.8421052631578947\n",
            "Fold 5, Epoch [1/10], Test Loss: 0.11139123141765594, Test Accuracy: 0.8947368421052632\n",
            "Fold 5, Epoch [2/10], Test Loss: 0.159786194562912, Test Accuracy: 0.9473684210526315\n",
            "Fold 5, Epoch [3/10], Test Loss: 0.21119160950183868, Test Accuracy: 0.9473684210526315\n",
            "Fold 5, Epoch [4/10], Test Loss: 0.27605363726615906, Test Accuracy: 0.9473684210526315\n",
            "Fold 5, Epoch [5/10], Test Loss: 0.3634859621524811, Test Accuracy: 0.9473684210526315\n",
            "Fold 5, Epoch [6/10], Test Loss: 0.5119781494140625, Test Accuracy: 0.8947368421052632\n",
            "Fold 5, Epoch [7/10], Test Loss: 0.806098461151123, Test Accuracy: 0.8421052631578947\n",
            "Fold 5, Epoch [8/10], Test Loss: 0.8782553672790527, Test Accuracy: 0.8421052631578947\n",
            "Fold 5, Epoch [9/10], Test Loss: 0.8773753643035889, Test Accuracy: 0.8421052631578947\n",
            "Fold 5, Epoch [10/10], Test Loss: 0.8306848406791687, Test Accuracy: 0.8947368421052632\n",
            "(3, [128, 64, 32])\n",
            "\n",
            "Hidden Size: [64, 32, 16], Num Layers: 3\n",
            "Fold 1, Epoch [1/10], Test Loss: 0.7402912378311157, Test Accuracy: 0.4\n",
            "Fold 1, Epoch [2/10], Test Loss: 0.6903089284896851, Test Accuracy: 0.55\n",
            "Fold 1, Epoch [3/10], Test Loss: 0.6608476042747498, Test Accuracy: 0.75\n",
            "Fold 1, Epoch [4/10], Test Loss: 0.6525670289993286, Test Accuracy: 0.75\n",
            "Fold 1, Epoch [5/10], Test Loss: 0.6890608072280884, Test Accuracy: 0.8\n",
            "Fold 1, Epoch [6/10], Test Loss: 0.6738868951797485, Test Accuracy: 0.8\n",
            "Fold 1, Epoch [7/10], Test Loss: 0.6404095888137817, Test Accuracy: 0.8\n",
            "Fold 1, Epoch [8/10], Test Loss: 0.6342666149139404, Test Accuracy: 0.8\n",
            "Fold 1, Epoch [9/10], Test Loss: 0.6138273477554321, Test Accuracy: 0.8\n",
            "Fold 1, Epoch [10/10], Test Loss: 0.5994073748588562, Test Accuracy: 0.8\n",
            "Fold 2, Epoch [1/10], Test Loss: 0.3911516070365906, Test Accuracy: 0.85\n",
            "Fold 2, Epoch [2/10], Test Loss: 0.4831176698207855, Test Accuracy: 0.85\n",
            "Fold 2, Epoch [3/10], Test Loss: 0.5084107518196106, Test Accuracy: 0.8\n",
            "Fold 2, Epoch [4/10], Test Loss: 0.44776469469070435, Test Accuracy: 0.9\n",
            "Fold 2, Epoch [5/10], Test Loss: 0.4387141764163971, Test Accuracy: 0.9\n",
            "Fold 2, Epoch [6/10], Test Loss: 0.40953969955444336, Test Accuracy: 0.9\n",
            "Fold 2, Epoch [7/10], Test Loss: 0.4156528115272522, Test Accuracy: 0.9\n",
            "Fold 2, Epoch [8/10], Test Loss: 0.429023414850235, Test Accuracy: 0.9\n",
            "Fold 2, Epoch [9/10], Test Loss: 0.4653913378715515, Test Accuracy: 0.9\n",
            "Fold 2, Epoch [10/10], Test Loss: 0.49107176065444946, Test Accuracy: 0.9\n",
            "Fold 3, Epoch [1/10], Test Loss: 0.3495243191719055, Test Accuracy: 0.85\n",
            "Fold 3, Epoch [2/10], Test Loss: 0.5503801703453064, Test Accuracy: 0.8\n",
            "Fold 3, Epoch [3/10], Test Loss: 0.7192617058753967, Test Accuracy: 0.75\n",
            "Fold 3, Epoch [4/10], Test Loss: 0.6917843222618103, Test Accuracy: 0.75\n",
            "Fold 3, Epoch [5/10], Test Loss: 0.659687876701355, Test Accuracy: 0.8\n",
            "Fold 3, Epoch [6/10], Test Loss: 0.680776059627533, Test Accuracy: 0.75\n",
            "Fold 3, Epoch [7/10], Test Loss: 0.7288332581520081, Test Accuracy: 0.75\n",
            "Fold 3, Epoch [8/10], Test Loss: 0.8692709803581238, Test Accuracy: 0.7\n",
            "Fold 3, Epoch [9/10], Test Loss: 1.089597463607788, Test Accuracy: 0.7\n",
            "Fold 3, Epoch [10/10], Test Loss: 1.1796472072601318, Test Accuracy: 0.7\n",
            "Fold 4, Epoch [1/10], Test Loss: 0.15960846841335297, Test Accuracy: 0.9473684210526315\n",
            "Fold 4, Epoch [2/10], Test Loss: 0.15159252285957336, Test Accuracy: 0.9473684210526315\n",
            "Fold 4, Epoch [3/10], Test Loss: 0.18769903481006622, Test Accuracy: 0.8947368421052632\n",
            "Fold 4, Epoch [4/10], Test Loss: 0.2179887443780899, Test Accuracy: 0.8421052631578947\n",
            "Fold 4, Epoch [5/10], Test Loss: 0.23170024156570435, Test Accuracy: 0.8947368421052632\n",
            "Fold 4, Epoch [6/10], Test Loss: 0.21929696202278137, Test Accuracy: 0.8947368421052632\n",
            "Fold 4, Epoch [7/10], Test Loss: 0.22085262835025787, Test Accuracy: 0.8947368421052632\n",
            "Fold 4, Epoch [8/10], Test Loss: 0.2274773269891739, Test Accuracy: 0.8421052631578947\n",
            "Fold 4, Epoch [9/10], Test Loss: 0.194083571434021, Test Accuracy: 0.8947368421052632\n",
            "Fold 4, Epoch [10/10], Test Loss: 0.1676362305879593, Test Accuracy: 0.8947368421052632\n",
            "Fold 5, Epoch [1/10], Test Loss: 0.18073387444019318, Test Accuracy: 0.9473684210526315\n",
            "Fold 5, Epoch [2/10], Test Loss: 0.2947615087032318, Test Accuracy: 0.9473684210526315\n",
            "Fold 5, Epoch [3/10], Test Loss: 0.3753420412540436, Test Accuracy: 0.9473684210526315\n",
            "Fold 5, Epoch [4/10], Test Loss: 0.4455251693725586, Test Accuracy: 0.9473684210526315\n",
            "Fold 5, Epoch [5/10], Test Loss: 0.48929715156555176, Test Accuracy: 0.9473684210526315\n",
            "Fold 5, Epoch [6/10], Test Loss: 0.50270015001297, Test Accuracy: 0.9473684210526315\n",
            "Fold 5, Epoch [7/10], Test Loss: 0.5080621242523193, Test Accuracy: 0.9473684210526315\n",
            "Fold 5, Epoch [8/10], Test Loss: 0.4923073649406433, Test Accuracy: 0.8947368421052632\n",
            "Fold 5, Epoch [9/10], Test Loss: 0.4734645187854767, Test Accuracy: 0.9473684210526315\n",
            "Fold 5, Epoch [10/10], Test Loss: 0.4856431484222412, Test Accuracy: 0.9473684210526315\n",
            "(3, [64, 32, 16])\n",
            "\n",
            "Best Model:\n",
            "Hidden Size: [64, 32], Num Layers: 2\n"
          ]
        }
      ]
    },
    {
      "cell_type": "markdown",
      "source": [
        "## Best model evaluation"
      ],
      "metadata": {
        "id": "Ap9gerD8wm3Z"
      }
    },
    {
      "cell_type": "code",
      "source": [
        "## TODO : Further analysis of the best model"
      ],
      "metadata": {
        "id": "BA3TUPaP9wm3"
      },
      "execution_count": null,
      "outputs": []
    }
  ]
}