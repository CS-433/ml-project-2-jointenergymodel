{
 "cells": [
  {
   "cell_type": "code",
   "execution_count": 1,
   "metadata": {
    "executionInfo": {
     "elapsed": 10678,
     "status": "ok",
     "timestamp": 1701109238369,
     "user": {
      "displayName": "Mériadec Morrier",
      "userId": "16854581866735489394"
     },
     "user_tz": -60
    },
    "id": "uzIHBIFZAd5H"
   },
   "outputs": [],
   "source": [
    "import random\n",
    "from functools import partial\n",
    "\n",
    "import matplotlib\n",
    "import matplotlib.pyplot as plt\n",
    "import numpy as np\n",
    "import torch\n",
    "from torchvision import datasets, transforms\n",
    "from torch.utils.data import DataLoader, Subset\n",
    "from sklearn.model_selection import train_test_split\n",
    "from torchvision.transforms import v2"
   ]
  },
  {
   "cell_type": "code",
   "execution_count": 2,
   "metadata": {
    "colab": {
     "base_uri": "https://localhost:8080/"
    },
    "executionInfo": {
     "elapsed": 26054,
     "status": "ok",
     "timestamp": 1701109264417,
     "user": {
      "displayName": "Mériadec Morrier",
      "userId": "16854581866735489394"
     },
     "user_tz": -60
    },
    "id": "jKUspEjVAg-P",
    "outputId": "d83a511a-bdc9-480b-f566-9e0a5d16c6bb"
   },
   "outputs": [
    {
     "name": "stdout",
     "output_type": "stream",
     "text": [
      "Mounted at /content/gdrive\n"
     ]
    }
   ],
   "source": [
    "from google.colab import drive\n",
    "drive.mount('/content/gdrive')"
   ]
  },
  {
   "cell_type": "code",
   "execution_count": 3,
   "metadata": {
    "executionInfo": {
     "elapsed": 756,
     "status": "ok",
     "timestamp": 1701109268106,
     "user": {
      "displayName": "Mériadec Morrier",
      "userId": "16854581866735489394"
     },
     "user_tz": -60
    },
    "id": "3v8GI4vtAjH1"
   },
   "outputs": [],
   "source": [
    "data_path = '/content/gdrive/MyDrive/dataCS433'"
   ]
  },
  {
   "cell_type": "code",
   "execution_count": 4,
   "metadata": {
    "executionInfo": {
     "elapsed": 605,
     "status": "ok",
     "timestamp": 1701109270665,
     "user": {
      "displayName": "Mériadec Morrier",
      "userId": "16854581866735489394"
     },
     "user_tz": -60
    },
    "id": "klznTzARAkwB"
   },
   "outputs": [],
   "source": [
    "whole_dataset = datasets.ImageFolder(\n",
    "    root=data_path,\n",
    "    transform=transforms.Compose([\n",
    "      transforms.ToTensor(),\n",
    "      transforms.Normalize(mean = [0.0478, 0.0478, 0.0478], #TO CALCULATE ON THE WHOLE DATASET\n",
    "                          std= [0.2133, 0.2133, 0.2133])\n",
    "  ])\n",
    ")"
   ]
  },
  {
   "cell_type": "code",
   "execution_count": 8,
   "metadata": {
    "executionInfo": {
     "elapsed": 327,
     "status": "ok",
     "timestamp": 1701109322955,
     "user": {
      "displayName": "Mériadec Morrier",
      "userId": "16854581866735489394"
     },
     "user_tz": -60
    },
    "id": "XFHEWbyvBByL"
   },
   "outputs": [],
   "source": [
    "data_loader = DataLoader(\n",
    "    whole_dataset,\n",
    "    batch_size=2,\n",
    "    num_workers=1,\n",
    "    shuffle=True\n",
    ")\n"
   ]
  },
  {
   "cell_type": "code",
   "execution_count": 9,
   "metadata": {
    "executionInfo": {
     "elapsed": 280,
     "status": "ok",
     "timestamp": 1701109326684,
     "user": {
      "displayName": "Mériadec Morrier",
      "userId": "16854581866735489394"
     },
     "user_tz": -60
    },
    "id": "PBo_85FhAopP"
   },
   "outputs": [],
   "source": [
    "def batch_mean_and_sd(loader):\n",
    "\n",
    "    cnt = 0\n",
    "    fst_moment = torch.empty(3)\n",
    "    snd_moment = torch.empty(3)\n",
    "\n",
    "    for images, _ in loader:\n",
    "        b, c, h, w = images.shape\n",
    "        nb_pixels = b * h * w\n",
    "        sum_ = torch.sum(images, dim=[0, 2, 3])\n",
    "        sum_of_square = torch.sum(images ** 2,\n",
    "                                  dim=[0, 2, 3])\n",
    "        fst_moment = (cnt * fst_moment + sum_) / (\n",
    "                      cnt + nb_pixels)\n",
    "        snd_moment = (cnt * snd_moment + sum_of_square) / (\n",
    "                            cnt + nb_pixels)\n",
    "        cnt += nb_pixels\n",
    "\n",
    "    mean, std = fst_moment, torch.sqrt(\n",
    "      snd_moment - fst_moment ** 2)\n",
    "    return mean,std\n"
   ]
  },
  {
   "cell_type": "code",
   "execution_count": 11,
   "metadata": {
    "colab": {
     "base_uri": "https://localhost:8080/"
    },
    "executionInfo": {
     "elapsed": 7545,
     "status": "ok",
     "timestamp": 1701109345286,
     "user": {
      "displayName": "Mériadec Morrier",
      "userId": "16854581866735489394"
     },
     "user_tz": -60
    },
    "id": "PW9UyVxkApGp",
    "outputId": "07b2a140-106f-4a67-e677-fd04eff0d8ce"
   },
   "outputs": [
    {
     "name": "stdout",
     "output_type": "stream",
     "text": [
      "tensor([0.1002, 0.1002, 0.1002]) tensor([1.1897, 1.1897, 1.1897])\n"
     ]
    }
   ],
   "source": [
    "mean, std = batch_mean_and_sd(data_loader)\n",
    "print(mean,std)"
   ]
  }
 ],
 "metadata": {
  "colab": {
   "authorship_tag": "ABX9TyM+7DzBcAijN90FB9Hum2ah",
   "provenance": []
  },
  "kernelspec": {
   "display_name": "Python 3 (ipykernel)",
   "language": "python",
   "name": "python3"
  },
  "language_info": {
   "codemirror_mode": {
    "name": "ipython",
    "version": 3
   },
   "file_extension": ".py",
   "mimetype": "text/x-python",
   "name": "python",
   "nbconvert_exporter": "python",
   "pygments_lexer": "ipython3",
   "version": "3.11.6"
  }
 },
 "nbformat": 4,
 "nbformat_minor": 0
}
